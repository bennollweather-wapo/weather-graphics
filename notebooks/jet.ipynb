{
 "cells": [
  {
   "cell_type": "code",
   "execution_count": 1,
   "metadata": {},
   "outputs": [],
   "source": [
    "%matplotlib inline\n",
    "import matplotlib as mpl\n",
    "import matplotlib.pyplot as plt\n",
    "import matplotlib.colors as colors\n",
    "from matplotlib.patches import Patch\n",
    "from matplotlib.colors import LinearSegmentedColormap\n",
    "import matplotlib.ticker as mticker\n",
    "import scipy.ndimage as ndimage\n",
    "import pandas as pd"
   ]
  },
  {
   "cell_type": "code",
   "execution_count": 2,
   "metadata": {},
   "outputs": [],
   "source": [
    "from cartopy import config\n",
    "import cartopy.crs as ccrs\n",
    "import cartopy.feature as cfeature\n",
    "from cartopy.io.shapereader import Reader\n",
    "from cartopy.feature import ShapelyFeature\n",
    "from cartopy.util import add_cyclic_point\n",
    "from cartopy.mpl.gridliner import LONGITUDE_FORMATTER, LATITUDE_FORMATTER\n",
    "from metpy.plots import USCOUNTIES\n",
    "import matplotlib.patheffects as pe"
   ]
  },
  {
   "cell_type": "code",
   "execution_count": 3,
   "metadata": {},
   "outputs": [],
   "source": [
    "import cmocean\n",
    "import xarray as xr\n",
    "import numpy as np\n",
    "import pathlib\n",
    "import sys\n",
    "import os"
   ]
  },
  {
   "cell_type": "code",
   "execution_count": 4,
   "metadata": {},
   "outputs": [],
   "source": [
    "import cmocean\n",
    "import xarray as xr\n",
    "import pathlib\n",
    "import wget"
   ]
  },
  {
   "cell_type": "code",
   "execution_count": 32,
   "metadata": {},
   "outputs": [],
   "source": [
    "from dateparser import parse\n",
    "from matplotlib import font_manager"
   ]
  },
  {
   "cell_type": "markdown",
   "metadata": {},
   "source": [
    "### parses dates and run time"
   ]
  },
  {
   "cell_type": "code",
   "execution_count": 7,
   "metadata": {},
   "outputs": [],
   "source": [
    "date = parse('today GMT')\n",
    "\n",
    "date = date.strftime(\"%Y%m%d\")"
   ]
  },
  {
   "cell_type": "markdown",
   "metadata": {},
   "source": [
    "### defines fig path"
   ]
  },
  {
   "cell_type": "code",
   "execution_count": 8,
   "metadata": {},
   "outputs": [],
   "source": [
    "fig_path = \"../imagery/{}/jet\".format(date)"
   ]
  },
  {
   "cell_type": "code",
   "execution_count": 9,
   "metadata": {},
   "outputs": [],
   "source": [
    "fig_path = pathlib.Path(fig_path)"
   ]
  },
  {
   "cell_type": "code",
   "execution_count": 10,
   "metadata": {},
   "outputs": [],
   "source": [
    "if fig_path.exists() == False:\n",
    "    fig_path.mkdir(parents = True)"
   ]
  },
  {
   "cell_type": "markdown",
   "metadata": {},
   "source": [
    "### opens dset, computes jet stream wind speed"
   ]
  },
  {
   "cell_type": "code",
   "execution_count": 15,
   "metadata": {},
   "outputs": [],
   "source": [
    "forecast = xr.open_dataset('../data/ecmwf.nc')"
   ]
  },
  {
   "cell_type": "code",
   "execution_count": 16,
   "metadata": {},
   "outputs": [],
   "source": [
    "forecast['v'] = forecast['v'].sel(isobaricInhPa=250)"
   ]
  },
  {
   "cell_type": "code",
   "execution_count": 17,
   "metadata": {},
   "outputs": [],
   "source": [
    "forecast['u'] = forecast['u'].sel(isobaricInhPa=250)"
   ]
  },
  {
   "cell_type": "code",
   "execution_count": 18,
   "metadata": {},
   "outputs": [],
   "source": [
    "forecast['gh'] = forecast['gh'].sel(isobaricInhPa=250)"
   ]
  },
  {
   "cell_type": "code",
   "execution_count": 19,
   "metadata": {},
   "outputs": [],
   "source": [
    "ws = (forecast['u']*forecast['u'] + forecast['v']*forecast['v'])**(1/2)\n",
    "ws = ws*2.237 # Converts to mph"
   ]
  },
  {
   "cell_type": "code",
   "execution_count": 20,
   "metadata": {},
   "outputs": [],
   "source": [
    "ws = ws.sortby('valid_time')"
   ]
  },
  {
   "cell_type": "markdown",
   "metadata": {},
   "source": [
    "### drops wind speeds less than 50 mph"
   ]
  },
  {
   "cell_type": "code",
   "execution_count": 21,
   "metadata": {},
   "outputs": [],
   "source": [
    "new_ws = ws.where(ws > 50, drop=True)"
   ]
  },
  {
   "cell_type": "code",
   "execution_count": 22,
   "metadata": {},
   "outputs": [],
   "source": [
    "gh = forecast['gh']\n",
    "gh = gh.sortby('valid_time')"
   ]
  },
  {
   "cell_type": "code",
   "execution_count": 23,
   "metadata": {},
   "outputs": [],
   "source": [
    "lats = forecast.variables['latitude'][:]  \n",
    "lons = forecast.variables['longitude'][:]"
   ]
  },
  {
   "cell_type": "markdown",
   "metadata": {},
   "source": [
    "### sets time"
   ]
  },
  {
   "cell_type": "code",
   "execution_count": 24,
   "metadata": {},
   "outputs": [],
   "source": [
    "conv = ws['valid_time'].dt.strftime('%Y-%m-%d %H')"
   ]
  },
  {
   "cell_type": "code",
   "execution_count": 25,
   "metadata": {},
   "outputs": [],
   "source": [
    "conv = conv.values"
   ]
  },
  {
   "cell_type": "code",
   "execution_count": 26,
   "metadata": {},
   "outputs": [
    {
     "name": "stderr",
     "output_type": "stream",
     "text": [
      "/opt/anaconda3/envs/climate/lib/python3.12/site-packages/xarray/core/accessor_dt.py:163: FutureWarning: 'H' is deprecated and will be removed in a future version, please use 'h' instead.\n",
      "  field_values = method(freq=freq).values\n"
     ]
    }
   ],
   "source": [
    "valid_time = ws['valid_time'].dt.round('H')"
   ]
  },
  {
   "cell_type": "code",
   "execution_count": 27,
   "metadata": {},
   "outputs": [],
   "source": [
    "utc = valid_time.to_index()"
   ]
  },
  {
   "cell_type": "code",
   "execution_count": 28,
   "metadata": {},
   "outputs": [],
   "source": [
    "local = utc.tz_localize('GMT').tz_convert('America/New_York')"
   ]
  },
  {
   "cell_type": "code",
   "execution_count": 29,
   "metadata": {},
   "outputs": [],
   "source": [
    "local_time = local.strftime(\"%Y-%m-%d\")"
   ]
  },
  {
   "cell_type": "code",
   "execution_count": 30,
   "metadata": {},
   "outputs": [],
   "source": [
    "formatted_dates = pd.to_datetime(local_time).strftime(\"%b. %d\")\n",
    "formatted_dates = formatted_dates.str.replace(r\"(?<=\\.\\s)0\", \"\", regex=True)"
   ]
  },
  {
   "cell_type": "markdown",
   "metadata": {},
   "source": [
    "### plots"
   ]
  },
  {
   "cell_type": "code",
   "execution_count": 31,
   "metadata": {},
   "outputs": [],
   "source": [
    "lon2 = new_ws['longitude']\n",
    "lat2 = new_ws['latitude']\n",
    "lons2, lats2 = np.meshgrid(lon2, lat2)"
   ]
  },
  {
   "cell_type": "markdown",
   "metadata": {},
   "source": [
    "### jet"
   ]
  },
  {
   "cell_type": "markdown",
   "metadata": {},
   "source": [
    "### wapo styling"
   ]
  },
  {
   "cell_type": "code",
   "execution_count": 33,
   "metadata": {},
   "outputs": [],
   "source": [
    "font_path = '../fonts/Franklin/FranklinITCStd-Black.otf'\n",
    "font_properties = font_manager.FontProperties(fname=font_path)\n",
    "\n",
    "font_path2 = '../fonts/Franklin/FranklinITCStd-Bold.otf'\n",
    "font_properties2 = font_manager.FontProperties(fname=font_path2)\n",
    "\n",
    "font_path3 = '../fonts/Franklin/FranklinITCStd-Light.otf'\n",
    "font_properties3 = font_manager.FontProperties(fname=font_path3, size=24)"
   ]
  },
  {
   "cell_type": "code",
   "execution_count": 34,
   "metadata": {},
   "outputs": [],
   "source": [
    "for i in range(len(forecast.valid_time)):\n",
    "\n",
    "    # Set projection type and region\n",
    "    projection_type = \"near_persp\"  # Options: \"ortho\", \"albers\", \"near_persp\"\n",
    "    region = \"central\"  # Change to 'eastern' or 'western' as needed\n",
    "\n",
    "    # Define the projection parameters for different U.S. regions\n",
    "    usa_projections = {\n",
    "        \"central\": {\"central_longitude\": 265, \"central_latitude\": 42}, # For ortho\n",
    "        \"eastern\": {\"central_longitude\": 283, \"central_latitude\": 42}, # For ortho\n",
    "        \"western\": {\"central_longitude\": 240, \"central_latitude\": 42}, # For ortho\n",
    "        \"southern_patagonia\": {\"central_longitude\": 293, \"central_latitude\": -50}, # For ortho\n",
    "        \"central\": {\"central_longitude\": 265, \"central_latitude\": 42, \"satellite_height\": 4000000}, # For near_persp\n",
    "        \"eastern\": {\"central_longitude\": 283, \"central_latitude\": 42, \"satellite_height\": 4000000}, # For near_persp\n",
    "        \"western\": {\"central_longitude\": 240, \"central_latitude\": 42, \"satellite_height\": 4000000}, # For near_persp\n",
    "    }\n",
    "\n",
    "    # Define zoom options (extent for different regions)\n",
    "    zoom_options = {\n",
    "        \"central\": [-125, -65, 24, 50],  # Central U.S.\n",
    "        \"western\": [-125, -95, 25, 50],  # Western U.S.\n",
    "        \"eastern\": [-95, -65, 25, 50],   # Eastern U.S.\n",
    "    }\n",
    "\n",
    "    # Set the projection based on the selected type\n",
    "    if projection_type == \"ortho\":\n",
    "        projection_params = usa_projections[region]\n",
    "        proj = ccrs.Orthographic(\n",
    "            central_longitude=projection_params[\"central_longitude\"],\n",
    "            central_latitude=projection_params[\"central_latitude\"]\n",
    "        )\n",
    "    elif projection_type == \"albers\":\n",
    "        proj = ccrs.AlbersEqualArea(\n",
    "            central_longitude=-96,\n",
    "            central_latitude=23,\n",
    "            standard_parallels=(29.5, 45.5)\n",
    "        )\n",
    "    elif projection_type == \"near_persp\":\n",
    "        projection_params = usa_projections[region]\n",
    "        proj = ccrs.NearsidePerspective(\n",
    "            central_longitude=projection_params[\"central_longitude\"],\n",
    "            central_latitude=projection_params[\"central_latitude\"],\n",
    "            satellite_height=projection_params[\"satellite_height\"]\n",
    "        )\n",
    "\n",
    "    # Create the figure and axes with the chosen projection\n",
    "    fig, ax = plt.subplots(figsize=(25, 15), subplot_kw={\"projection\": proj})\n",
    "    if projection_type == \"albers\":\n",
    "        ax.set_extent(zoom_options[region], crs=ccrs.PlateCarree())\n",
    "        \n",
    "    # Create the figure and axes with the selected projection\n",
    "    if projection_type == \"ortho\":\n",
    "        fig, ax = plt.subplots(figsize=(25, 15), subplot_kw={\"projection\": proj})\n",
    "\n",
    "    # Add map features\n",
    "    states_provinces = cfeature.NaturalEarthFeature(\n",
    "        category='cultural',\n",
    "        name='admin_1_states_provinces_lines',\n",
    "        scale='50m',\n",
    "        facecolor='none'\n",
    "    )\n",
    "    # Add map features with improved settings\n",
    "    ax.add_feature(cfeature.LAND, color='#F5F5F5', edgecolor='k', alpha=0.8)\n",
    "    ax.coastlines(resolution='50m', color='dimgray', linewidth=1)\n",
    "    ax.add_feature(cfeature.BORDERS, edgecolor='dimgray')\n",
    "    lakes = cfeature.NaturalEarthFeature(\n",
    "        'physical', 'lakes', '50m',\n",
    "        edgecolor='dimgray', facecolor='white'\n",
    "    )\n",
    "    ax.add_feature(lakes, alpha=0.5, linewidth=0.5, zorder=100)\n",
    "    ax.add_feature(states_provinces, edgecolor='dimgray')\n",
    "\n",
    "    # Plot jet stream with 'viridis' colormap\n",
    "    data = ax.pcolormesh(\n",
    "        lons2, lats2, new_ws[i],\n",
    "        vmin=50, vmax=200,\n",
    "        cmap='CMRmap_r',\n",
    "        transform=ccrs.PlateCarree()\n",
    "    )\n",
    "\n",
    "    # Add contour lines for atmospheric height\n",
    "    cs = ax.contour(\n",
    "        lons, lats, forecast['gh'][i],\n",
    "        levels=np.arange(9000, 12000, 120),\n",
    "        colors='k',\n",
    "        linewidths=0.5,\n",
    "        transform=ccrs.PlateCarree()\n",
    "    )\n",
    "    \n",
    "    # Add contour labels with font properties\n",
    "    contour_labels = ax.clabel(cs, fontsize=10, inline=True, fmt='%i', colors='k')\n",
    "\n",
    "    # Apply font properties to each label\n",
    "    for label in contour_labels:\n",
    "        label.set_fontproperties(font_properties3)\n",
    "\n",
    "    # Add titles\n",
    "    plt.suptitle(\n",
    "        f'Jet stream wind speed (mph) & atmospheric heights (m), {formatted_dates[i]}',\n",
    "        fontsize=48, color='k', fontproperties=font_properties2, y=0.31, x=0.51\n",
    "    )\n",
    "\n",
    "    # Add a color bar\n",
    "    cbar = plt.colorbar(data, ax=ax, orientation=\"horizontal\", ticks=[50,70,90,110,130,150,170,190], pad=-1.82, aspect=20, shrink=0.5)\n",
    "    cbar.ax.tick_params(labelsize=30, labelcolor=\"k\")\n",
    "    cbar.ax.set_facecolor([1, 1, 1, 0])\n",
    "    \n",
    "    # Apply font properties (e.g., weight and family) to the tick labels\n",
    "    for label in cbar.ax.get_xticklabels():\n",
    "        label.set_fontproperties(font_properties3)  # Apply font properties to each label\n",
    "        label.set_size(30)  # Set the font size separately\n",
    "\n",
    "    # Remove the black border surrounding the map\n",
    "    for spine in ax.spines.values():\n",
    "        spine.set_visible(False)\n",
    "    \n",
    "    # Save the figure\n",
    "    plt.savefig(fig_path.joinpath(f\"jet_{i}_{region}.png\"), facecolor='white', bbox_inches='tight', dpi=100)\n",
    "\n",
    "    # Close the figure to free up memory\n",
    "    plt.close(fig)\n"
   ]
  },
  {
   "cell_type": "code",
   "execution_count": null,
   "metadata": {},
   "outputs": [],
   "source": []
  }
 ],
 "metadata": {
  "kernelspec": {
   "display_name": "Python 3 (ipykernel)",
   "language": "python",
   "name": "python3"
  },
  "language_info": {
   "codemirror_mode": {
    "name": "ipython",
    "version": 3
   },
   "file_extension": ".py",
   "mimetype": "text/x-python",
   "name": "python",
   "nbconvert_exporter": "python",
   "pygments_lexer": "ipython3",
   "version": "3.12.7"
  }
 },
 "nbformat": 4,
 "nbformat_minor": 4
}
