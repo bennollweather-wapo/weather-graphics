{
 "cells": [
  {
   "cell_type": "code",
   "execution_count": 23,
   "metadata": {},
   "outputs": [],
   "source": [
    "%matplotlib inline\n",
    "import matplotlib as mpl\n",
    "import matplotlib.pyplot as plt\n",
    "import matplotlib.colors as colors\n",
    "from matplotlib.patches import Patch\n",
    "from matplotlib.colors import LinearSegmentedColormap\n",
    "import matplotlib.ticker as mticker\n",
    "import scipy.ndimage as ndimage\n",
    "import pandas as pd"
   ]
  },
  {
   "cell_type": "code",
   "execution_count": 24,
   "metadata": {},
   "outputs": [],
   "source": [
    "from cartopy import config\n",
    "import cartopy.crs as ccrs\n",
    "import cartopy.feature as cfeature\n",
    "from cartopy.io.shapereader import Reader\n",
    "from cartopy.feature import ShapelyFeature\n",
    "from cartopy.util import add_cyclic_point\n",
    "from cartopy.mpl.gridliner import LONGITUDE_FORMATTER, LATITUDE_FORMATTER\n",
    "from metpy.plots import USCOUNTIES\n",
    "import matplotlib.patheffects as pe"
   ]
  },
  {
   "cell_type": "code",
   "execution_count": 25,
   "metadata": {},
   "outputs": [],
   "source": [
    "import cmocean\n",
    "import xarray as xr\n",
    "import numpy as np\n",
    "import pathlib\n",
    "import sys\n",
    "import os"
   ]
  },
  {
   "cell_type": "code",
   "execution_count": 26,
   "metadata": {},
   "outputs": [],
   "source": [
    "from dateparser import parse\n",
    "from matplotlib import font_manager"
   ]
  },
  {
   "cell_type": "markdown",
   "metadata": {},
   "source": [
    "### parses dates"
   ]
  },
  {
   "cell_type": "code",
   "execution_count": 27,
   "metadata": {},
   "outputs": [],
   "source": [
    "date = parse('today GMT')\n",
    "\n",
    "date = date.strftime(\"%Y%m%d\")"
   ]
  },
  {
   "cell_type": "markdown",
   "metadata": {},
   "source": [
    "### defines fig path"
   ]
  },
  {
   "cell_type": "code",
   "execution_count": 28,
   "metadata": {},
   "outputs": [],
   "source": [
    "fig_path = \"../imagery/{}\".format(date)"
   ]
  },
  {
   "cell_type": "code",
   "execution_count": 29,
   "metadata": {},
   "outputs": [],
   "source": [
    "fig_path = pathlib.Path(fig_path)"
   ]
  },
  {
   "cell_type": "code",
   "execution_count": 30,
   "metadata": {},
   "outputs": [],
   "source": [
    "if fig_path.exists() == False:\n",
    "    fig_path.mkdir(parents = True)"
   ]
  },
  {
   "cell_type": "markdown",
   "metadata": {},
   "source": [
    "### opens dset"
   ]
  },
  {
   "cell_type": "code",
   "execution_count": 31,
   "metadata": {},
   "outputs": [],
   "source": [
    "ds = xr.open_zarr(\"../data/ecmwf.zarr\")"
   ]
  },
  {
   "cell_type": "markdown",
   "metadata": {},
   "source": [
    "### precip"
   ]
  },
  {
   "cell_type": "code",
   "execution_count": 32,
   "metadata": {},
   "outputs": [],
   "source": [
    "precip = ds['tp'] * 39.3701"
   ]
  },
  {
   "cell_type": "markdown",
   "metadata": {},
   "source": [
    "### timestamp selection"
   ]
  },
  {
   "cell_type": "code",
   "execution_count": 33,
   "metadata": {},
   "outputs": [
    {
     "name": "stdout",
     "output_type": "stream",
     "text": [
      "Timestamp for precip[0]: Feb. 10\n",
      "Timestamp for precip[40]: Feb. 15\n",
      "Timestamp for precip[52]: Feb. 17\n",
      "Timestamp for precip[64]: Feb. 20\n",
      "Timestamp for precip[-1]: Feb. 25\n"
     ]
    }
   ],
   "source": [
    "# Extract the time values for the specified indices\n",
    "timestamp_1 = precip.valid_time.isel(valid_time=0).dt.strftime(\"%b. %d\").item()\n",
    "timestamp_2 = precip.valid_time.isel(valid_time=40).dt.strftime(\"%b. %d\").item()\n",
    "timestamp_3 = precip.valid_time.isel(valid_time=52).dt.strftime(\"%b. %d\").item()\n",
    "timestamp_4 = precip.valid_time.isel(valid_time=64).dt.strftime(\"%b. %d\").item()\n",
    "timestamp_5 = precip.valid_time.isel(valid_time=-1).dt.strftime(\"%b. %d\").item()\n",
    "\n",
    "# Print or use the formatted timestamps\n",
    "print(f\"Timestamp for precip[0]: {timestamp_1}\") # First time step\n",
    "print(f\"Timestamp for precip[40]: {timestamp_2}\") # Day 5\n",
    "print(f\"Timestamp for precip[52]: {timestamp_3}\") # Day 7\n",
    "print(f\"Timestamp for precip[64]: {timestamp_4}\") # Day 10\n",
    "print(f\"Timestamp for precip[-1]: {timestamp_5}\") # Day 15"
   ]
  },
  {
   "cell_type": "markdown",
   "metadata": {},
   "source": [
    "### sets time"
   ]
  },
  {
   "cell_type": "code",
   "execution_count": 34,
   "metadata": {},
   "outputs": [],
   "source": [
    "conv = ds['valid_time'].dt.strftime('%Y-%m-%d %H')"
   ]
  },
  {
   "cell_type": "code",
   "execution_count": 35,
   "metadata": {},
   "outputs": [],
   "source": [
    "conv = conv.values"
   ]
  },
  {
   "cell_type": "code",
   "execution_count": 36,
   "metadata": {},
   "outputs": [],
   "source": [
    "step = ds['step']"
   ]
  },
  {
   "cell_type": "code",
   "execution_count": 37,
   "metadata": {},
   "outputs": [],
   "source": [
    "step = step.values"
   ]
  },
  {
   "cell_type": "code",
   "execution_count": 38,
   "metadata": {},
   "outputs": [],
   "source": [
    "step = step.astype('timedelta64[h]')"
   ]
  },
  {
   "cell_type": "code",
   "execution_count": 39,
   "metadata": {},
   "outputs": [
    {
     "name": "stderr",
     "output_type": "stream",
     "text": [
      "/opt/anaconda3/envs/climate/lib/python3.12/site-packages/xarray/core/accessor_dt.py:163: FutureWarning: 'H' is deprecated and will be removed in a future version, please use 'h' instead.\n",
      "  field_values = method(freq=freq).values\n"
     ]
    }
   ],
   "source": [
    "valid_time = ds['valid_time'].dt.round('H')"
   ]
  },
  {
   "cell_type": "code",
   "execution_count": 40,
   "metadata": {},
   "outputs": [],
   "source": [
    "utc = valid_time.to_index()"
   ]
  },
  {
   "cell_type": "code",
   "execution_count": 41,
   "metadata": {},
   "outputs": [],
   "source": [
    "local = utc.tz_localize('GMT').tz_convert('America/New_York')"
   ]
  },
  {
   "cell_type": "code",
   "execution_count": 42,
   "metadata": {},
   "outputs": [],
   "source": [
    "local_time = local.strftime(\"%Y-%m-%d\")"
   ]
  },
  {
   "cell_type": "code",
   "execution_count": 43,
   "metadata": {},
   "outputs": [],
   "source": [
    "formatted_dates = pd.to_datetime(local_time).strftime(\"%b. %d\")"
   ]
  },
  {
   "cell_type": "markdown",
   "metadata": {},
   "source": [
    "### plots"
   ]
  },
  {
   "cell_type": "code",
   "execution_count": 44,
   "metadata": {},
   "outputs": [],
   "source": [
    "lats = ds.variables['latitude'][:]  \n",
    "lons = ds.variables['longitude'][:]"
   ]
  },
  {
   "cell_type": "markdown",
   "metadata": {},
   "source": [
    "### wapo styling"
   ]
  },
  {
   "cell_type": "code",
   "execution_count": 45,
   "metadata": {},
   "outputs": [],
   "source": [
    "font_path = '../fonts/Franklin/FranklinITCStd-Black.otf'\n",
    "font_properties = font_manager.FontProperties(fname=font_path)\n",
    "\n",
    "font_path2 = '../fonts/Franklin/FranklinITCStd-Bold.otf'\n",
    "font_properties2 = font_manager.FontProperties(fname=font_path2)\n",
    "\n",
    "font_path3 = '../fonts/Franklin/FranklinITCStd-Light.otf'\n",
    "font_properties3 = font_manager.FontProperties(fname=font_path3, size=24)\n",
    "\n",
    "font_path4 = '../fonts/Franklin/FranklinITCStd-Light.otf'\n",
    "font_properties4 = font_manager.FontProperties(fname=font_path4, size=20)"
   ]
  },
  {
   "cell_type": "code",
   "execution_count": 46,
   "metadata": {},
   "outputs": [],
   "source": [
    "state_centers = {\n",
    "    \"AK\": (-152.0, 65.3), \"AL\": (-86.9, 32.8), \"AZ\": (-111.7, 34.1), \"AR\": (-92.3, 34.8),\n",
    "    \"CA\": (-119.4, 36.7), \"CO\": (-105.5, 39.5), \"CT\": (-72.7, 41.6), \"DC\": (-77.0, 38.9),\n",
    "    \"DE\": (-75.5, 38.9), \"FL\": (-81.6, 27.9), \"GA\": (-83.7, 33.3), \"HI\": (-157.8, 20.8),\n",
    "    \"IA\": (-93.3, 41.8), \"ID\": (-114.5, 44.3), \"IL\": (-89.2, 40.0), \"IN\": (-86.3, 39.8),\n",
    "    \"KS\": (-98.5, 38.5), \"KY\": (-84.3, 37.6), \"LA\": (-92.5, 31.1), \"MA\": (-71.9, 42.3),\n",
    "    \"MD\": (-76.6, 39.4), \"ME\": (-69.3, 45.3), \"MI\": (-84.8, 43.3), \"MN\": (-94.4, 45.7),\n",
    "    \"MO\": (-92.3, 38.5), \"MS\": (-89.7, 32.7), \"MT\": (-110.3, 46.8), \"NC\": (-79.0, 35.6),\n",
    "    \"ND\": (-99.9, 47.5), \"NE\": (-98.9, 41.3), \"NH\": (-71.5, 43.4), \"NJ\": (-74.5, 40.5),\n",
    "    \"NM\": (-106.2, 34.5), \"NY\": (-75.4, 42.5), \"NV\": (-116.4, 39.1), \"OH\": (-82.8, 40.4),\n",
    "    \"OK\": (-97.5, 35.6), \"OR\": (-120.5, 44.0), \"PA\": (-77.3, 40.9), \"RI\": (-71.5, 41.7),\n",
    "    \"SC\": (-81.0, 33.8), \"SD\": (-99.5, 44.3), \"TN\": (-86.5, 35.9), \"TX\": (-99.0, 31.0),\n",
    "    \"UT\": (-111.7, 39.8), \"VA\": (-78.3, 37.5), \"VT\": (-72.6, 44.0), \"WA\": (-120.6, 47.4),\n",
    "    \"WI\": (-89.6, 44.5), \"WV\": (-80.6, 38.6), \"WY\": (-107.3, 43.0)\n",
    "}\n",
    "\n",
    "# Eastern region\n",
    "eastern_states = [\n",
    "    \"AL\", \"AR\", \"CT\", \"DC\", \"DE\", \"FL\", \"GA\", \"IL\", \"IN\", \"IA\", \"KY\", \"LA\", \"ME\", \"MA\",\n",
    "    \"MD\", \"MI\", \"MN\", \"MS\", \"MO\", \"NC\", \"NH\", \"NJ\", \"NY\", \"OH\", \"PA\", \"RI\", \"SC\", \"TN\",\n",
    "    \"VA\", \"VT\", \"WI\", \"WV\"\n",
    "]\n",
    "\n",
    "# Western region\n",
    "western_states = [\n",
    "    \"AZ\", \"CA\", \"CO\", \"ID\", \"KS\", \"MT\", \"NV\", \"NM\", \"ND\", \"NE\", \"OK\", \"OR\", \"SD\", \"TX\",\n",
    "    \"UT\", \"WA\", \"WY\"\n",
    "]\n",
    "\n",
    "# Central region\n",
    "central_states = [\n",
    "    \"AL\", \"AZ\", \"AR\", \"CA\", \"CO\", \"CT\", \"DC\", \"DE\", \"FL\", \"GA\", \"ID\", \"IL\", \"IN\", \"IA\",\n",
    "    \"KS\", \"KY\", \"LA\", \"ME\", \"MA\", \"MD\", \"MI\", \"MN\", \"MS\", \"MO\", \"MT\", \"NC\", \"ND\", \"NE\",\n",
    "    \"NV\", \"NH\", \"NJ\", \"NM\", \"NY\", \"OK\", \"OR\", \"OH\", \"PA\", \"RI\", \"SC\", \"SD\", \"TN\", \"TX\",\n",
    "    \"UT\", \"VA\", \"VT\", \"WA\", \"WI\", \"WV\", \"WY\"\n",
    "]\n",
    "\n",
    "# North America region\n",
    "north_america_states = [\n",
    "    \"AL\", \"AK\", \"AZ\", \"AR\", \"CA\", \"CO\", \"CT\", \"DC\", \"DE\", \"FL\", \"GA\", \"ID\", \"IL\", \"IN\",\n",
    "    \"IA\", \"KS\", \"KY\", \"LA\", \"ME\", \"MA\", \"MD\", \"MI\", \"MN\", \"MS\", \"MO\", \"MT\", \"NC\", \"ND\",\n",
    "    \"NE\", \"NV\", \"NH\", \"NJ\", \"NM\", \"NY\", \"OK\", \"OR\", \"OH\", \"PA\", \"RI\", \"SC\", \"SD\", \"TN\",\n",
    "    \"TX\", \"UT\", \"VA\", \"VT\", \"WA\", \"WI\", \"WV\", \"WY\"\n",
    "]\n",
    "\n",
    "# Great Lakes region\n",
    "great_lakes_states = [\n",
    "    \"CT\", \"DC\", \"DE\", \"IA\", \"IL\", \"IN\", \"KY\", \"MA\", \"MD\", \"ME\", \"MI\", \"MO\", \"NH\", \"NJ\", \n",
    "    \"NY\", \"OH\", \"PA\", \"RI\", \"VT\", \"VA\", \"WI\", \"WV\"\n",
    "]\n",
    "\n",
    "# Deep South region\n",
    "deep_south_states = [\n",
    "    \"AL\", \"AR\", \"DC\", \"DE\", \"FL\", \"GA\", \"IL\", \"IN\", \"KS\", \"KY\", \"LA\", \"MD\", \"MS\", \"MO\",\n",
    "    \"NC\", \"OH\", \"OK\", \"SC\", \"TN\", \"TX\", \"VA\", \"WV\"\n",
    "]"
   ]
  },
  {
   "cell_type": "markdown",
   "metadata": {},
   "source": [
    "### 15 day precip"
   ]
  },
  {
   "cell_type": "code",
   "execution_count": 47,
   "metadata": {},
   "outputs": [],
   "source": [
    "import matplotlib.pyplot as plt\n",
    "import cartopy.crs as ccrs\n",
    "import cartopy.feature as cfeature\n",
    "from matplotlib.colors import ListedColormap, BoundaryNorm\n",
    "import matplotlib.patches as mpatches\n",
    "from metpy.plots import USCOUNTIES\n",
    "import shapefile\n",
    "import cartopy.feature as cfeature\n",
    "from cartopy.io.shapereader import Reader\n",
    "from cartopy.feature import ShapelyFeature\n",
    "\n",
    "# Set projection type and region\n",
    "projection_type = \"albers\"  # Albers Equal Area Projection\n",
    "region = \"central\"  # Change to 'eastern' or 'western' as needed\n",
    "\n",
    "# Define projection parameters\n",
    "usa_projections = {\n",
    "    \"central\": {\"central_longitude\": 265, \"central_latitude\": 42},\n",
    "    \"eastern\": {\"central_longitude\": 283, \"central_latitude\": 42},\n",
    "    \"western\": {\"central_longitude\": 240, \"central_latitude\": 42},\n",
    "    \"great_lakes\": {\"central_longitude\": 275, \"central_latitude\": 43},\n",
    "    \"deep_south\": {\"central_longitude\": 270, \"central_latitude\": 37},\n",
    "}\n",
    "\n",
    "# Define extent options\n",
    "zoom_options = {\n",
    "    \"central\": [-125, -65, 24, 49],\n",
    "    \"western\": [-125, -95, 25, 49],\n",
    "    \"eastern\": [-95, -65, 25, 49],\n",
    "    \"great_lakes\": [-95, -68, 37, 49],\n",
    "    \"deep_south\": [-105, -77, 25, 40],\n",
    "}\n",
    "\n",
    "def create_plot(region, output_file, title_offset):\n",
    "    # Set the projection and extent for the given region\n",
    "    proj = ccrs.AlbersEqualArea(central_longitude=-96, central_latitude=23, standard_parallels=(29.5, 45.5))\n",
    "    fig, ax = plt.subplots(figsize=(25, 15), subplot_kw={\"projection\": proj})\n",
    "    ax.set_extent(zoom_options[region], crs=ccrs.PlateCarree())\n",
    "\n",
    "    # Add map features\n",
    "    states_provinces = cfeature.NaturalEarthFeature(\n",
    "        category='cultural',\n",
    "        name='admin_1_states_provinces_lines',\n",
    "        scale='10m',\n",
    "        facecolor='none'\n",
    "    )\n",
    "    # Add map features with improved settings\n",
    "    ax.add_feature(cfeature.LAND, color='#F5F5F5', edgecolor='k', alpha=0.8)\n",
    "    ax.coastlines(resolution='50m', color='dimgray', linewidth=1, zorder=104)\n",
    "    ax.add_feature(cfeature.BORDERS, edgecolor='dimgray')\n",
    "    lakes = cfeature.NaturalEarthFeature(\n",
    "        'physical', 'lakes', '50m',\n",
    "        edgecolor='dimgray', facecolor='white'\n",
    "    )\n",
    "    ax.add_feature(lakes, alpha=1, linewidth=0.5, zorder=100)\n",
    "    ax.add_feature(states_provinces, edgecolor='dimgray')\n",
    "    ax.add_feature(cfeature.OCEAN, color='#FFFFFF', alpha=1, zorder=103)\n",
    "\n",
    "    # Titles\n",
    "    plt.suptitle(\n",
    "        'Total precipitation (in)', \n",
    "        fontsize=36, \n",
    "        color='k', \n",
    "        fontproperties=font_properties2, \n",
    "        y=0.94 + title_offset  \n",
    "    )\n",
    "    \n",
    "    x_value = 0.47 if region in [\"eastern\", \"western\"] else 0.48\n",
    "    \n",
    "    plt.title(\n",
    "        f'For the 15 days ending on {timestamp_5}', \n",
    "        loc='center', \n",
    "        fontsize=30, \n",
    "        color='k', \n",
    "        fontproperties=font_properties3,\n",
    "        x=x_value,\n",
    "        pad=60\n",
    "    )\n",
    "\n",
    "    # Define levels and colors\n",
    "    levels = [0, 0.1, 0.5, 1, 2, 4, 8, 100]  # Include 0 as the lowest boundary\n",
    "    colors = ['#F5F5F5', '#d4edc9', '#b2d6a0', '#91c078', '#6ea951', '#499327', '#38711e', '#285115']  # Light gray for <0.1\n",
    "    \n",
    "    cmap = ListedColormap(colors)\n",
    "    norm = BoundaryNorm(boundaries=levels, ncolors=len(colors), extend='neither')\n",
    "    \n",
    "    # Plot the data\n",
    "    data = ax.pcolormesh(lons, lats, precip[-1], cmap=cmap, norm=norm, transform=ccrs.PlateCarree())\n",
    "\n",
    "    # Create legend, excluding <0.1\n",
    "    legend_labels = ['0.1-0.5', '0.5-1', '1-2', '2-4', '4-8', '8+']\n",
    "    patches = [mpatches.Patch(color=colors[i+1], label=legend_labels[i]) for i in range(len(legend_labels))]\n",
    "    \n",
    "    # Adjust legend position for \"great_lakes\" region\n",
    "    legend_y_anchor = 0.88 if region == \"great_lakes\" else 0.83 + title_offset  \n",
    "\n",
    "    fig.legend(\n",
    "        handles=patches,\n",
    "        loc='lower center',\n",
    "        ncol=6,\n",
    "        bbox_to_anchor=(0.51, legend_y_anchor),\n",
    "        frameon=False,\n",
    "        prop=font_properties4\n",
    "    )\n",
    "\n",
    "    # Remove the black border surrounding the map\n",
    "    for spine in ax.spines.values():\n",
    "        spine.set_visible(False)\n",
    "\n",
    "    # Add state labels\n",
    "    for state, (lon, lat) in state_centers.items():\n",
    "        if (\n",
    "            (region == \"central\" and state in central_states) or\n",
    "            (region == \"eastern\" and state in eastern_states) or\n",
    "            (region == \"western\" and state in western_states) or\n",
    "            (region == \"deep_south\" and state in deep_south_states) or\n",
    "            (region == \"great_lakes\" and state in great_lakes_states) or\n",
    "            (region == \"california\" and state in california_locations)\n",
    "        ):\n",
    "            ax.text(lon, lat, state, transform=ccrs.PlateCarree(), fontproperties=font_properties3,\n",
    "                    fontsize=20, color='k', ha='center', va='center', zorder=105, alpha=0.5)\n",
    "\n",
    "    # Save the plot\n",
    "    plt.savefig(output_file, dpi=100, bbox_inches=\"tight\")\n",
    "    plt.close(fig)\n",
    "\n",
    "# Define parameters for each region\n",
    "regions = {\n",
    "    \"central\": {\"file\": f\"../imagery/{date}/precip_central-15day.png\", \"title_offset\": 0},\n",
    "    \"eastern\": {\"file\": f\"../imagery/{date}/precip_eastern-15day.png\", \"title_offset\": 0.05},\n",
    "    \"western\": {\"file\": f\"../imagery/{date}/precip_western-15day.png\", \"title_offset\": 0.05},\n",
    "    \"deep_south\": {\"file\": f\"../imagery/{date}/precip_deep_south-15day.png\", \"title_offset\": 0.05},\n",
    "    \"great_lakes\": {\"file\": f\"../imagery/{date}/precip_great_lakes-15day.png\", \"title_offset\": 0.05},\n",
    "}\n",
    "\n",
    "# Loop through the regions and create the plots\n",
    "for region, params in regions.items():\n",
    "    create_plot(region, params[\"file\"], params[\"title_offset\"])\n"
   ]
  },
  {
   "cell_type": "markdown",
   "metadata": {},
   "source": [
    "### 5-day precip"
   ]
  },
  {
   "cell_type": "code",
   "execution_count": 48,
   "metadata": {},
   "outputs": [],
   "source": [
    "import matplotlib.pyplot as plt\n",
    "import cartopy.crs as ccrs\n",
    "import cartopy.feature as cfeature\n",
    "from matplotlib.colors import ListedColormap, BoundaryNorm\n",
    "import matplotlib.patches as mpatches\n",
    "from metpy.plots import USCOUNTIES\n",
    "import shapefile\n",
    "import cartopy.feature as cfeature\n",
    "from cartopy.io.shapereader import Reader\n",
    "from cartopy.feature import ShapelyFeature\n",
    "\n",
    "# Set projection type and region\n",
    "projection_type = \"albers\"  # Albers Equal Area Projection\n",
    "region = \"central\"  # Change to 'eastern' or 'western' as needed\n",
    "\n",
    "# Define projection parameters\n",
    "usa_projections = {\n",
    "    \"central\": {\"central_longitude\": 265, \"central_latitude\": 42},\n",
    "    \"eastern\": {\"central_longitude\": 283, \"central_latitude\": 42},\n",
    "    \"western\": {\"central_longitude\": 240, \"central_latitude\": 42},\n",
    "    \"great_lakes\": {\"central_longitude\": 275, \"central_latitude\": 43},\n",
    "    \"deep_south\": {\"central_longitude\": 270, \"central_latitude\": 37},\n",
    "}\n",
    "\n",
    "# Define extent options\n",
    "zoom_options = {\n",
    "    \"central\": [-125, -65, 24, 49],\n",
    "    \"western\": [-125, -95, 25, 49],\n",
    "    \"eastern\": [-95, -65, 25, 49],\n",
    "    \"great_lakes\": [-95, -68, 37, 49],\n",
    "    \"deep_south\": [-105, -77, 25, 40],\n",
    "}\n",
    "\n",
    "def create_plot(region, output_file, title_offset):\n",
    "    # Set the projection and extent for the given region\n",
    "    proj = ccrs.AlbersEqualArea(central_longitude=-96, central_latitude=23, standard_parallels=(29.5, 45.5))\n",
    "    fig, ax = plt.subplots(figsize=(25, 15), subplot_kw={\"projection\": proj})\n",
    "    ax.set_extent(zoom_options[region], crs=ccrs.PlateCarree())\n",
    "\n",
    "    # Add map features\n",
    "    states_provinces = cfeature.NaturalEarthFeature(\n",
    "        category='cultural',\n",
    "        name='admin_1_states_provinces_lines',\n",
    "        scale='10m',\n",
    "        facecolor='none'\n",
    "    )\n",
    "    # Add map features with improved settings\n",
    "    ax.add_feature(cfeature.LAND, color='#F5F5F5', edgecolor='k', alpha=0.8)\n",
    "    ax.coastlines(resolution='50m', color='dimgray', linewidth=1, zorder=104)\n",
    "    ax.add_feature(cfeature.BORDERS, edgecolor='dimgray')\n",
    "    lakes = cfeature.NaturalEarthFeature(\n",
    "        'physical', 'lakes', '50m',\n",
    "        edgecolor='dimgray', facecolor='white'\n",
    "    )\n",
    "    ax.add_feature(lakes, alpha=1, linewidth=0.5, zorder=100)\n",
    "    ax.add_feature(states_provinces, edgecolor='dimgray')\n",
    "    ax.add_feature(cfeature.OCEAN, color='#FFFFFF', alpha=1, zorder=103)\n",
    "\n",
    "    # Titles\n",
    "    plt.suptitle(\n",
    "        'Total precipitation (in)', \n",
    "        fontsize=36, \n",
    "        color='k', \n",
    "        fontproperties=font_properties2, \n",
    "        y=0.94 + title_offset  \n",
    "    )\n",
    "    \n",
    "    x_value = 0.47 if region in [\"eastern\", \"western\"] else 0.48\n",
    "    \n",
    "    plt.title(\n",
    "        f'For the 5 days ending on {timestamp_2}', \n",
    "        loc='center', \n",
    "        fontsize=30, \n",
    "        color='k', \n",
    "        fontproperties=font_properties3,\n",
    "        x=x_value,\n",
    "        pad=60\n",
    "    )\n",
    "\n",
    "    # Define levels and colors\n",
    "    levels = [0, 0.1, 0.5, 1, 2, 4, 8, 100]  # Include 0 as the lowest boundary\n",
    "    colors = ['#F5F5F5', '#d4edc9', '#b2d6a0', '#91c078', '#6ea951', '#499327', '#38711e', '#285115']  # Light gray for <0.1\n",
    "    \n",
    "    cmap = ListedColormap(colors)\n",
    "    norm = BoundaryNorm(boundaries=levels, ncolors=len(colors), extend='neither')\n",
    "    \n",
    "    # Plot the data\n",
    "    data = ax.pcolormesh(lons, lats, precip[40], cmap=cmap, norm=norm, transform=ccrs.PlateCarree())\n",
    "\n",
    "    # Create legend, excluding <0.1\n",
    "    legend_labels = ['0.1-0.5', '0.5-1', '1-2', '2-4', '4-8', '8+']\n",
    "    patches = [mpatches.Patch(color=colors[i+1], label=legend_labels[i]) for i in range(len(legend_labels))]\n",
    "    \n",
    "    # Adjust legend position for \"great_lakes\" region\n",
    "    legend_y_anchor = 0.88 if region == \"great_lakes\" else 0.83 + title_offset  \n",
    "\n",
    "    fig.legend(\n",
    "        handles=patches,\n",
    "        loc='lower center',\n",
    "        ncol=6,\n",
    "        bbox_to_anchor=(0.51, legend_y_anchor),\n",
    "        frameon=False,\n",
    "        prop=font_properties4\n",
    "    )\n",
    "\n",
    "    # Remove the black border surrounding the map\n",
    "    for spine in ax.spines.values():\n",
    "        spine.set_visible(False)\n",
    "\n",
    "    # Add state labels\n",
    "    for state, (lon, lat) in state_centers.items():\n",
    "        if (\n",
    "            (region == \"central\" and state in central_states) or\n",
    "            (region == \"eastern\" and state in eastern_states) or\n",
    "            (region == \"western\" and state in western_states) or\n",
    "            (region == \"deep_south\" and state in deep_south_states) or\n",
    "            (region == \"great_lakes\" and state in great_lakes_states) or\n",
    "            (region == \"california\" and state in california_locations)\n",
    "        ):\n",
    "            ax.text(lon, lat, state, transform=ccrs.PlateCarree(), fontproperties=font_properties3,\n",
    "                    fontsize=20, color='k', ha='center', va='center', zorder=105, alpha=0.5)\n",
    "\n",
    "    # Save the plot\n",
    "    plt.savefig(output_file, dpi=100, bbox_inches=\"tight\")\n",
    "    plt.close(fig)\n",
    "\n",
    "# Define parameters for each region\n",
    "regions = {\n",
    "    \"central\": {\"file\": f\"../imagery/{date}/precip_central-5day.png\", \"title_offset\": 0},\n",
    "    \"eastern\": {\"file\": f\"../imagery/{date}/precip_eastern-5day.png\", \"title_offset\": 0.05},\n",
    "    \"western\": {\"file\": f\"../imagery/{date}/precip_western-5day.png\", \"title_offset\": 0.05},\n",
    "    \"deep_south\": {\"file\": f\"../imagery/{date}/precip_deep_south-5day.png\", \"title_offset\": 0.05},\n",
    "    \"great_lakes\": {\"file\": f\"../imagery/{date}/precip_great_lakes-5day.png\", \"title_offset\": 0.05},\n",
    "}\n",
    "\n",
    "# Loop through the regions and create the plots\n",
    "for region, params in regions.items():\n",
    "    create_plot(region, params[\"file\"], params[\"title_offset\"])\n"
   ]
  },
  {
   "cell_type": "code",
   "execution_count": null,
   "metadata": {},
   "outputs": [],
   "source": []
  }
 ],
 "metadata": {
  "kernelspec": {
   "display_name": "Python 3 (ipykernel)",
   "language": "python",
   "name": "python3"
  },
  "language_info": {
   "codemirror_mode": {
    "name": "ipython",
    "version": 3
   },
   "file_extension": ".py",
   "mimetype": "text/x-python",
   "name": "python",
   "nbconvert_exporter": "python",
   "pygments_lexer": "ipython3",
   "version": "3.12.7"
  }
 },
 "nbformat": 4,
 "nbformat_minor": 4
}
