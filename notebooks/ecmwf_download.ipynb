{
 "cells": [
  {
   "cell_type": "code",
   "execution_count": 1,
   "id": "f4eccf51",
   "metadata": {
    "papermill": {
     "duration": 0.138617,
     "end_time": "2025-02-02T09:41:25.582063",
     "exception": false,
     "start_time": "2025-02-02T09:41:25.443446",
     "status": "completed"
    },
    "tags": []
   },
   "outputs": [],
   "source": [
    "from dateparser import parse\n",
    "import os\n",
    "import wget\n",
    "import glob\n",
    "import shutil"
   ]
  },
  {
   "cell_type": "code",
   "execution_count": 2,
   "id": "93d02860-6bdb-4127-9627-52a987f14683",
   "metadata": {},
   "outputs": [
    {
     "name": "stdout",
     "output_type": "stream",
     "text": [
      "Current working directory: /Users/nollb/weather/github/weather-graphics/data\n",
      "Data folder cleared.\n"
     ]
    }
   ],
   "source": [
    "# Define the folder name\n",
    "folder_name = \"data\"\n",
    "\n",
    "# Get the current working directory\n",
    "cwd = os.getcwd()\n",
    "\n",
    "# Move one level up\n",
    "parent_dir = os.path.dirname(cwd)\n",
    "\n",
    "# Create the full path to the data folder\n",
    "folder_path = os.path.join(parent_dir, folder_name)\n",
    "\n",
    "# Create the folder if it doesn't exist\n",
    "os.makedirs(folder_path, exist_ok=True)\n",
    "\n",
    "# Change the working directory to the new folder\n",
    "os.chdir(folder_path)\n",
    "\n",
    "# Print the new working directory to confirm\n",
    "print(\"Current working directory:\", os.getcwd())\n",
    "\n",
    "# Clear the folder\n",
    "for item in os.listdir(folder_path):\n",
    "    item_path = os.path.join(folder_path, item)\n",
    "    if os.path.isfile(item_path) or os.path.islink(item_path):\n",
    "        os.remove(item_path)\n",
    "    elif os.path.isdir(item_path):\n",
    "        shutil.rmtree(item_path)\n",
    "\n",
    "print(\"Data folder cleared.\")"
   ]
  },
  {
   "cell_type": "markdown",
   "id": "775f64a4",
   "metadata": {
    "papermill": {
     "duration": 0.000885,
     "end_time": "2025-02-02T09:41:25.598047",
     "exception": false,
     "start_time": "2025-02-02T09:41:25.597162",
     "status": "completed"
    },
    "tags": []
   },
   "source": [
    "### parses dates and run time"
   ]
  },
  {
   "cell_type": "code",
   "execution_count": 3,
   "id": "9e9f8519",
   "metadata": {
    "papermill": {
     "duration": 0.030489,
     "end_time": "2025-02-02T09:41:25.629434",
     "exception": false,
     "start_time": "2025-02-02T09:41:25.598945",
     "status": "completed"
    },
    "tags": []
   },
   "outputs": [],
   "source": [
    "current_month = parse('0 months ago')\n",
    "\n",
    "current_month = current_month.strftime(\"%b\")"
   ]
  },
  {
   "cell_type": "code",
   "execution_count": 4,
   "id": "aab7385b",
   "metadata": {
    "papermill": {
     "duration": 0.006832,
     "end_time": "2025-02-02T09:41:25.637314",
     "exception": false,
     "start_time": "2025-02-02T09:41:25.630482",
     "status": "completed"
    },
    "tags": []
   },
   "outputs": [],
   "source": [
    "date = parse('today GMT')\n",
    "\n",
    "date = date.strftime(\"%Y%m%d\")"
   ]
  },
  {
   "cell_type": "markdown",
   "id": "c3094cb9",
   "metadata": {
    "papermill": {
     "duration": 0.000942,
     "end_time": "2025-02-02T09:41:25.639206",
     "exception": false,
     "start_time": "2025-02-02T09:41:25.638264",
     "status": "completed"
    },
    "tags": []
   },
   "source": [
    "### model run"
   ]
  },
  {
   "cell_type": "code",
   "execution_count": 5,
   "id": "e867f875",
   "metadata": {
    "papermill": {
     "duration": 0.003182,
     "end_time": "2025-02-02T09:41:25.643303",
     "exception": false,
     "start_time": "2025-02-02T09:41:25.640121",
     "status": "completed"
    },
    "tags": []
   },
   "outputs": [],
   "source": [
    "run = '00'"
   ]
  },
  {
   "cell_type": "markdown",
   "id": "15fb4f2c-2e27-432b-91d8-b2bab7a6344d",
   "metadata": {
    "papermill": {
     "duration": 0.000893,
     "end_time": "2025-02-02T09:41:25.645256",
     "exception": false,
     "start_time": "2025-02-02T09:41:25.644363",
     "status": "completed"
    },
    "tags": []
   },
   "source": [
    "### download data"
   ]
  },
  {
   "cell_type": "code",
   "execution_count": 7,
   "id": "ea0c164b-d2e0-49e1-9817-7de32f964651",
   "metadata": {
    "papermill": {
     "duration": 573.125123,
     "end_time": "2025-02-02T09:50:58.771273",
     "exception": false,
     "start_time": "2025-02-02T09:41:25.646150",
     "status": "completed"
    },
    "tags": []
   },
   "outputs": [
    {
     "name": "stdout",
     "output_type": "stream",
     "text": [
      "Downloaded https://data.ecmwf.int/forecasts/20250203/00z/ifs/0p25/oper/20250203000000-0h-oper-fc.grib2 as 20250203000000-0h-oper-fc.grib2\n",
      "Downloaded https://data.ecmwf.int/forecasts/20250203/00z/ifs/0p25/oper/20250203000000-18h-oper-fc.grib2 as 20250203000000-18h-oper-fc.grib2\n",
      "Downloaded https://data.ecmwf.int/forecasts/20250203/00z/ifs/0p25/oper/20250203000000-9h-oper-fc.grib2 as 20250203000000-9h-oper-fc.grib2\n",
      "Downloaded https://data.ecmwf.int/forecasts/20250203/00z/ifs/0p25/oper/20250203000000-33h-oper-fc.grib2 as 20250203000000-33h-oper-fc.grib2\n",
      "Downloaded https://data.ecmwf.int/forecasts/20250203/00z/ifs/0p25/oper/20250203000000-24h-oper-fc.grib2 as 20250203000000-24h-oper-fc.grib2\n",
      "Downloaded https://data.ecmwf.int/forecasts/20250203/00z/ifs/0p25/oper/20250203000000-21h-oper-fc.grib2 as 20250203000000-21h-oper-fc.grib2\n",
      "Downloaded https://data.ecmwf.int/forecasts/20250203/00z/ifs/0p25/oper/20250203000000-15h-oper-fc.grib2 as 20250203000000-15h-oper-fc.grib2\n",
      "Downloaded https://data.ecmwf.int/forecasts/20250203/00z/ifs/0p25/oper/20250203000000-39h-oper-fc.grib2 as 20250203000000-39h-oper-fc.grib2\n",
      "Downloaded https://data.ecmwf.int/forecasts/20250203/00z/ifs/0p25/oper/20250203000000-36h-oper-fc.grib2 as 20250203000000-36h-oper-fc.grib2\n",
      "Downloaded https://data.ecmwf.int/forecasts/20250203/00z/ifs/0p25/oper/20250203000000-30h-oper-fc.grib2 as 20250203000000-30h-oper-fc.grib2\n",
      "Downloaded https://data.ecmwf.int/forecasts/20250203/00z/ifs/0p25/oper/20250203000000-6h-oper-fc.grib2 as 20250203000000-6h-oper-fc.grib2\n",
      "Downloaded https://data.ecmwf.int/forecasts/20250203/00z/ifs/0p25/oper/20250203000000-27h-oper-fc.grib2 as 20250203000000-27h-oper-fc.grib2\n",
      "Downloaded https://data.ecmwf.int/forecasts/20250203/00z/ifs/0p25/oper/20250203000000-3h-oper-fc.grib2 as 20250203000000-3h-oper-fc.grib2\n",
      "Downloaded https://data.ecmwf.int/forecasts/20250203/00z/ifs/0p25/oper/20250203000000-12h-oper-fc.grib2 as 20250203000000-12h-oper-fc.grib2\n",
      "Downloaded https://data.ecmwf.int/forecasts/20250203/00z/ifs/0p25/oper/20250203000000-45h-oper-fc.grib2 as 20250203000000-45h-oper-fc.grib2\n",
      "Downloaded https://data.ecmwf.int/forecasts/20250203/00z/ifs/0p25/oper/20250203000000-54h-oper-fc.grib2 as 20250203000000-54h-oper-fc.grib2\n",
      "Downloaded https://data.ecmwf.int/forecasts/20250203/00z/ifs/0p25/oper/20250203000000-48h-oper-fc.grib2 as 20250203000000-48h-oper-fc.grib2\n",
      "Downloaded https://data.ecmwf.int/forecasts/20250203/00z/ifs/0p25/oper/20250203000000-57h-oper-fc.grib2 as 20250203000000-57h-oper-fc.grib2\n",
      "Downloaded https://data.ecmwf.int/forecasts/20250203/00z/ifs/0p25/oper/20250203000000-51h-oper-fc.grib2 as 20250203000000-51h-oper-fc.grib2\n",
      "Downloaded https://data.ecmwf.int/forecasts/20250203/00z/ifs/0p25/oper/20250203000000-69h-oper-fc.grib2 as 20250203000000-69h-oper-fc.grib2\n",
      "Downloaded https://data.ecmwf.int/forecasts/20250203/00z/ifs/0p25/oper/20250203000000-60h-oper-fc.grib2 as 20250203000000-60h-oper-fc.grib2\n",
      "Downloaded https://data.ecmwf.int/forecasts/20250203/00z/ifs/0p25/oper/20250203000000-63h-oper-fc.grib2 as 20250203000000-63h-oper-fc.grib2\n",
      "Downloaded https://data.ecmwf.int/forecasts/20250203/00z/ifs/0p25/oper/20250203000000-66h-oper-fc.grib2 as 20250203000000-66h-oper-fc.grib2\n",
      "Downloaded https://data.ecmwf.int/forecasts/20250203/00z/ifs/0p25/oper/20250203000000-72h-oper-fc.grib2 as 20250203000000-72h-oper-fc.grib2\n",
      "Downloaded https://data.ecmwf.int/forecasts/20250203/00z/ifs/0p25/oper/20250203000000-75h-oper-fc.grib2 as 20250203000000-75h-oper-fc.grib2\n",
      "Downloaded https://data.ecmwf.int/forecasts/20250203/00z/ifs/0p25/oper/20250203000000-78h-oper-fc.grib2 as 20250203000000-78h-oper-fc.grib2\n",
      "Downloaded https://data.ecmwf.int/forecasts/20250203/00z/ifs/0p25/oper/20250203000000-42h-oper-fc.grib2 as 20250203000000-42h-oper-fc.grib2\n",
      "Downloaded https://data.ecmwf.int/forecasts/20250203/00z/ifs/0p25/oper/20250203000000-81h-oper-fc.grib2 as 20250203000000-81h-oper-fc.grib2\n",
      "Downloaded https://data.ecmwf.int/forecasts/20250203/00z/ifs/0p25/oper/20250203000000-84h-oper-fc.grib2 as 20250203000000-84h-oper-fc.grib2\n",
      "Downloaded https://data.ecmwf.int/forecasts/20250203/00z/ifs/0p25/oper/20250203000000-90h-oper-fc.grib2 as 20250203000000-90h-oper-fc.grib2\n",
      "Downloaded https://data.ecmwf.int/forecasts/20250203/00z/ifs/0p25/oper/20250203000000-87h-oper-fc.grib2 as 20250203000000-87h-oper-fc.grib2\n",
      "Downloaded https://data.ecmwf.int/forecasts/20250203/00z/ifs/0p25/oper/20250203000000-93h-oper-fc.grib2 as 20250203000000-93h-oper-fc.grib2\n",
      "Downloaded https://data.ecmwf.int/forecasts/20250203/00z/ifs/0p25/oper/20250203000000-102h-oper-fc.grib2 as 20250203000000-102h-oper-fc.grib2\n",
      "Downloaded https://data.ecmwf.int/forecasts/20250203/00z/ifs/0p25/oper/20250203000000-105h-oper-fc.grib2 as 20250203000000-105h-oper-fc.grib2\n",
      "Downloaded https://data.ecmwf.int/forecasts/20250203/00z/ifs/0p25/oper/20250203000000-111h-oper-fc.grib2 as 20250203000000-111h-oper-fc.grib2\n",
      "Downloaded https://data.ecmwf.int/forecasts/20250203/00z/ifs/0p25/oper/20250203000000-114h-oper-fc.grib2 as 20250203000000-114h-oper-fc.grib2\n",
      "Downloaded https://data.ecmwf.int/forecasts/20250203/00z/ifs/0p25/oper/20250203000000-117h-oper-fc.grib2 as 20250203000000-117h-oper-fc.grib2\n",
      "Downloaded https://data.ecmwf.int/forecasts/20250203/00z/ifs/0p25/oper/20250203000000-120h-oper-fc.grib2 as 20250203000000-120h-oper-fc.grib2\n",
      "Downloaded https://data.ecmwf.int/forecasts/20250203/00z/ifs/0p25/oper/20250203000000-96h-oper-fc.grib2 as 20250203000000-96h-oper-fc.grib2\n",
      "Downloaded https://data.ecmwf.int/forecasts/20250203/00z/ifs/0p25/oper/20250203000000-99h-oper-fc.grib2 as 20250203000000-99h-oper-fc.grib2\n",
      "Downloaded https://data.ecmwf.int/forecasts/20250203/00z/ifs/0p25/oper/20250203000000-108h-oper-fc.grib2 as 20250203000000-108h-oper-fc.grib2\n",
      "Downloaded https://data.ecmwf.int/forecasts/20250203/00z/ifs/0p25/oper/20250203000000-123h-oper-fc.grib2 as 20250203000000-123h-oper-fc.grib2\n",
      "Downloaded https://data.ecmwf.int/forecasts/20250203/00z/ifs/0p25/oper/20250203000000-132h-oper-fc.grib2 as 20250203000000-132h-oper-fc.grib2\n",
      "Downloaded https://data.ecmwf.int/forecasts/20250203/00z/ifs/0p25/oper/20250203000000-129h-oper-fc.grib2 as 20250203000000-129h-oper-fc.grib2\n",
      "Downloaded https://data.ecmwf.int/forecasts/20250203/00z/ifs/0p25/oper/20250203000000-138h-oper-fc.grib2 as 20250203000000-138h-oper-fc.grib2\n",
      "Downloaded https://data.ecmwf.int/forecasts/20250203/00z/ifs/0p25/oper/20250203000000-144h-oper-fc.grib2 as 20250203000000-144h-oper-fc.grib2\n",
      "Downloaded https://data.ecmwf.int/forecasts/20250203/00z/ifs/0p25/oper/20250203000000-141h-oper-fc.grib2 as 20250203000000-141h-oper-fc.grib2\n",
      "Downloaded https://data.ecmwf.int/forecasts/20250203/00z/ifs/0p25/oper/20250203000000-126h-oper-fc.grib2 as 20250203000000-126h-oper-fc.grib2\n",
      "Downloaded https://data.ecmwf.int/forecasts/20250203/00z/ifs/0p25/oper/20250203000000-150h-oper-fc.grib2 as 20250203000000-150h-oper-fc.grib2\n",
      "Downloaded https://data.ecmwf.int/forecasts/20250203/00z/ifs/0p25/oper/20250203000000-156h-oper-fc.grib2 as 20250203000000-156h-oper-fc.grib2\n",
      "Downloaded https://data.ecmwf.int/forecasts/20250203/00z/ifs/0p25/oper/20250203000000-168h-oper-fc.grib2 as 20250203000000-168h-oper-fc.grib2\n",
      "Downloaded https://data.ecmwf.int/forecasts/20250203/00z/ifs/0p25/oper/20250203000000-135h-oper-fc.grib2 as 20250203000000-135h-oper-fc.grib2\n",
      "Downloaded https://data.ecmwf.int/forecasts/20250203/00z/ifs/0p25/oper/20250203000000-180h-oper-fc.grib2 as 20250203000000-180h-oper-fc.grib2\n",
      "Downloaded https://data.ecmwf.int/forecasts/20250203/00z/ifs/0p25/oper/20250203000000-174h-oper-fc.grib2 as 20250203000000-174h-oper-fc.grib2\n",
      "Downloaded https://data.ecmwf.int/forecasts/20250203/00z/ifs/0p25/oper/20250203000000-186h-oper-fc.grib2 as 20250203000000-186h-oper-fc.grib2\n",
      "Downloaded https://data.ecmwf.int/forecasts/20250203/00z/ifs/0p25/oper/20250203000000-162h-oper-fc.grib2 as 20250203000000-162h-oper-fc.grib2\n",
      "Downloaded https://data.ecmwf.int/forecasts/20250203/00z/ifs/0p25/oper/20250203000000-198h-oper-fc.grib2 as 20250203000000-198h-oper-fc.grib2\n",
      "Downloaded https://data.ecmwf.int/forecasts/20250203/00z/ifs/0p25/oper/20250203000000-204h-oper-fc.grib2 as 20250203000000-204h-oper-fc.grib2\n",
      "Downloaded https://data.ecmwf.int/forecasts/20250203/00z/ifs/0p25/oper/20250203000000-216h-oper-fc.grib2 as 20250203000000-216h-oper-fc.grib2\n",
      "Downloaded https://data.ecmwf.int/forecasts/20250203/00z/ifs/0p25/oper/20250203000000-210h-oper-fc.grib2 as 20250203000000-210h-oper-fc.grib2\n",
      "Downloaded https://data.ecmwf.int/forecasts/20250203/00z/ifs/0p25/oper/20250203000000-234h-oper-fc.grib2 as 20250203000000-234h-oper-fc.grib2\n",
      "Downloaded https://data.ecmwf.int/forecasts/20250203/00z/ifs/0p25/oper/20250203000000-228h-oper-fc.grib2 as 20250203000000-228h-oper-fc.grib2\n",
      "Downloaded https://data.ecmwf.int/forecasts/20250203/00z/ifs/0p25/oper/20250203000000-252h-oper-fc.grib2 as 20250203000000-252h-oper-fc.grib2\n",
      "Downloaded https://data.ecmwf.int/forecasts/20250203/00z/ifs/0p25/oper/20250203000000-258h-oper-fc.grib2 as 20250203000000-258h-oper-fc.grib2\n",
      "Downloaded https://data.ecmwf.int/forecasts/20250203/00z/ifs/0p25/oper/20250203000000-222h-oper-fc.grib2 as 20250203000000-222h-oper-fc.grib2\n",
      "Downloaded https://data.ecmwf.int/forecasts/20250203/00z/ifs/0p25/oper/20250203000000-192h-oper-fc.grib2 as 20250203000000-192h-oper-fc.grib2\n",
      "Downloaded https://data.ecmwf.int/forecasts/20250203/00z/ifs/0p25/oper/20250203000000-240h-oper-fc.grib2 as 20250203000000-240h-oper-fc.grib2\n",
      "Downloaded https://data.ecmwf.int/forecasts/20250203/00z/ifs/0p25/oper/20250203000000-246h-oper-fc.grib2 as 20250203000000-246h-oper-fc.grib2\n",
      "Downloaded https://data.ecmwf.int/forecasts/20250203/00z/ifs/0p25/oper/20250203000000-264h-oper-fc.grib2 as 20250203000000-264h-oper-fc.grib2\n",
      "Downloaded https://data.ecmwf.int/forecasts/20250203/00z/ifs/0p25/oper/20250203000000-276h-oper-fc.grib2 as 20250203000000-276h-oper-fc.grib2\n",
      "Downloaded https://data.ecmwf.int/forecasts/20250203/00z/ifs/0p25/oper/20250203000000-270h-oper-fc.grib2 as 20250203000000-270h-oper-fc.grib2\n",
      "Downloaded https://data.ecmwf.int/forecasts/20250203/00z/ifs/0p25/oper/20250203000000-282h-oper-fc.grib2 as 20250203000000-282h-oper-fc.grib2\n",
      "Downloaded https://data.ecmwf.int/forecasts/20250203/00z/ifs/0p25/oper/20250203000000-288h-oper-fc.grib2 as 20250203000000-288h-oper-fc.grib2\n",
      "Downloaded https://data.ecmwf.int/forecasts/20250203/00z/ifs/0p25/oper/20250203000000-294h-oper-fc.grib2 as 20250203000000-294h-oper-fc.grib2\n",
      "Downloaded https://data.ecmwf.int/forecasts/20250203/00z/ifs/0p25/oper/20250203000000-300h-oper-fc.grib2 as 20250203000000-300h-oper-fc.grib2\n",
      "Downloaded https://data.ecmwf.int/forecasts/20250203/00z/ifs/0p25/oper/20250203000000-306h-oper-fc.grib2 as 20250203000000-306h-oper-fc.grib2\n",
      "Downloaded https://data.ecmwf.int/forecasts/20250203/00z/ifs/0p25/oper/20250203000000-330h-oper-fc.grib2 as 20250203000000-330h-oper-fc.grib2\n",
      "Downloaded https://data.ecmwf.int/forecasts/20250203/00z/ifs/0p25/oper/20250203000000-318h-oper-fc.grib2 as 20250203000000-318h-oper-fc.grib2\n",
      "Downloaded https://data.ecmwf.int/forecasts/20250203/00z/ifs/0p25/oper/20250203000000-312h-oper-fc.grib2 as 20250203000000-312h-oper-fc.grib2\n",
      "Downloaded https://data.ecmwf.int/forecasts/20250203/00z/ifs/0p25/oper/20250203000000-342h-oper-fc.grib2 as 20250203000000-342h-oper-fc.grib2\n",
      "Downloaded https://data.ecmwf.int/forecasts/20250203/00z/ifs/0p25/oper/20250203000000-324h-oper-fc.grib2 as 20250203000000-324h-oper-fc.grib2\n",
      "Downloaded https://data.ecmwf.int/forecasts/20250203/00z/ifs/0p25/oper/20250203000000-336h-oper-fc.grib2 as 20250203000000-336h-oper-fc.grib2\n",
      "Downloaded https://data.ecmwf.int/forecasts/20250203/00z/ifs/0p25/oper/20250203000000-348h-oper-fc.grib2 as 20250203000000-348h-oper-fc.grib2\n",
      "Downloaded https://data.ecmwf.int/forecasts/20250203/00z/ifs/0p25/oper/20250203000000-360h-oper-fc.grib2 as 20250203000000-360h-oper-fc.grib2\n",
      "Downloaded https://data.ecmwf.int/forecasts/20250203/00z/ifs/0p25/oper/20250203000000-354h-oper-fc.grib2 as 20250203000000-354h-oper-fc.grib2\n"
     ]
    },
    {
     "name": "stdout",
     "output_type": "stream",
     "text": [
      "Downloaded https://data.ecmwf.int/forecasts/20250202/00z/ifs/0p25/oper/20250202000000-30h-oper-fc.grib2 as 20250202000000-30h-oper-fc.grib2\n"
     ]
    },
    {
     "name": "stdout",
     "output_type": "stream",
     "text": [
      "Downloaded https://data.ecmwf.int/forecasts/20250202/00z/ifs/0p25/oper/20250202000000-21h-oper-fc.grib2 as 20250202000000-21h-oper-fc.grib2\n",
      "Downloaded https://data.ecmwf.int/forecasts/20250202/00z/ifs/0p25/oper/20250202000000-24h-oper-fc.grib2 as 20250202000000-24h-oper-fc.grib2\n"
     ]
    },
    {
     "name": "stdout",
     "output_type": "stream",
     "text": [
      "Downloaded https://data.ecmwf.int/forecasts/20250202/00z/ifs/0p25/oper/20250202000000-9h-oper-fc.grib2 as 20250202000000-9h-oper-fc.grib2\n",
      "Downloaded https://data.ecmwf.int/forecasts/20250202/00z/ifs/0p25/oper/20250202000000-36h-oper-fc.grib2 as 20250202000000-36h-oper-fc.grib2\n"
     ]
    },
    {
     "name": "stdout",
     "output_type": "stream",
     "text": [
      "Downloaded https://data.ecmwf.int/forecasts/20250202/00z/ifs/0p25/oper/20250202000000-3h-oper-fc.grib2 as 20250202000000-3h-oper-fc.grib2\n"
     ]
    },
    {
     "name": "stdout",
     "output_type": "stream",
     "text": [
      "Downloaded https://data.ecmwf.int/forecasts/20250202/00z/ifs/0p25/oper/20250202000000-12h-oper-fc.grib2 as 20250202000000-12h-oper-fc.grib2\n"
     ]
    },
    {
     "name": "stdout",
     "output_type": "stream",
     "text": [
      "Downloaded https://data.ecmwf.int/forecasts/20250202/00z/ifs/0p25/oper/20250202000000-6h-oper-fc.grib2 as 20250202000000-6h-oper-fc.grib2\n",
      "Downloaded https://data.ecmwf.int/forecasts/20250202/00z/ifs/0p25/oper/20250202000000-27h-oper-fc.grib2 as 20250202000000-27h-oper-fc.grib2\n"
     ]
    },
    {
     "name": "stdout",
     "output_type": "stream",
     "text": [
      "Downloaded https://data.ecmwf.int/forecasts/20250202/00z/ifs/0p25/oper/20250202000000-33h-oper-fc.grib2 as 20250202000000-33h-oper-fc.grib2\n"
     ]
    },
    {
     "name": "stdout",
     "output_type": "stream",
     "text": [
      "Downloaded https://data.ecmwf.int/forecasts/20250202/00z/ifs/0p25/oper/20250202000000-15h-oper-fc.grib2 as 20250202000000-15h-oper-fc.grib2\n"
     ]
    },
    {
     "name": "stdout",
     "output_type": "stream",
     "text": [
      "Downloaded https://data.ecmwf.int/forecasts/20250202/00z/ifs/0p25/oper/20250202000000-45h-oper-fc.grib2 as 20250202000000-45h-oper-fc.grib2\n"
     ]
    },
    {
     "name": "stdout",
     "output_type": "stream",
     "text": [
      "Downloaded https://data.ecmwf.int/forecasts/20250202/00z/ifs/0p25/oper/20250202000000-42h-oper-fc.grib2 as 20250202000000-42h-oper-fc.grib2\n",
      "Downloaded https://data.ecmwf.int/forecasts/20250202/00z/ifs/0p25/oper/20250202000000-63h-oper-fc.grib2 as 20250202000000-63h-oper-fc.grib2\n"
     ]
    },
    {
     "name": "stdout",
     "output_type": "stream",
     "text": [
      "Downloaded https://data.ecmwf.int/forecasts/20250202/00z/ifs/0p25/oper/20250202000000-48h-oper-fc.grib2 as 20250202000000-48h-oper-fc.grib2\n"
     ]
    },
    {
     "name": "stdout",
     "output_type": "stream",
     "text": [
      "Downloaded https://data.ecmwf.int/forecasts/20250202/00z/ifs/0p25/oper/20250202000000-57h-oper-fc.grib2 as 20250202000000-57h-oper-fc.grib2\n",
      "Downloaded https://data.ecmwf.int/forecasts/20250202/00z/ifs/0p25/oper/20250202000000-60h-oper-fc.grib2 as 20250202000000-60h-oper-fc.grib2\n"
     ]
    },
    {
     "name": "stdout",
     "output_type": "stream",
     "text": [
      "Downloaded https://data.ecmwf.int/forecasts/20250202/00z/ifs/0p25/oper/20250202000000-51h-oper-fc.grib2 as 20250202000000-51h-oper-fc.grib2\n"
     ]
    },
    {
     "name": "stdout",
     "output_type": "stream",
     "text": [
      "Downloaded https://data.ecmwf.int/forecasts/20250202/00z/ifs/0p25/oper/20250202000000-72h-oper-fc.grib2 as 20250202000000-72h-oper-fc.grib2\n"
     ]
    },
    {
     "name": "stdout",
     "output_type": "stream",
     "text": [
      "Downloaded https://data.ecmwf.int/forecasts/20250202/00z/ifs/0p25/oper/20250202000000-81h-oper-fc.grib2 as 20250202000000-81h-oper-fc.grib2\n"
     ]
    },
    {
     "name": "stdout",
     "output_type": "stream",
     "text": [
      "Downloaded https://data.ecmwf.int/forecasts/20250202/00z/ifs/0p25/oper/20250202000000-75h-oper-fc.grib2 as 20250202000000-75h-oper-fc.grib2\n"
     ]
    },
    {
     "name": "stdout",
     "output_type": "stream",
     "text": [
      "Downloaded https://data.ecmwf.int/forecasts/20250202/00z/ifs/0p25/oper/20250202000000-78h-oper-fc.grib2 as 20250202000000-78h-oper-fc.grib2\n"
     ]
    },
    {
     "name": "stdout",
     "output_type": "stream",
     "text": [
      "Downloaded https://data.ecmwf.int/forecasts/20250202/00z/ifs/0p25/oper/20250202000000-54h-oper-fc.grib2 as 20250202000000-54h-oper-fc.grib2\n"
     ]
    },
    {
     "name": "stdout",
     "output_type": "stream",
     "text": [
      "Downloaded https://data.ecmwf.int/forecasts/20250202/00z/ifs/0p25/oper/20250202000000-69h-oper-fc.grib2 as 20250202000000-69h-oper-fc.grib2\n"
     ]
    },
    {
     "name": "stdout",
     "output_type": "stream",
     "text": [
      "Downloaded https://data.ecmwf.int/forecasts/20250202/00z/ifs/0p25/oper/20250202000000-66h-oper-fc.grib2 as 20250202000000-66h-oper-fc.grib2\n"
     ]
    },
    {
     "name": "stdout",
     "output_type": "stream",
     "text": [
      "Downloaded https://data.ecmwf.int/forecasts/20250202/00z/ifs/0p25/oper/20250202000000-87h-oper-fc.grib2 as 20250202000000-87h-oper-fc.grib2\n"
     ]
    },
    {
     "name": "stdout",
     "output_type": "stream",
     "text": [
      "Downloaded https://data.ecmwf.int/forecasts/20250202/00z/ifs/0p25/oper/20250202000000-90h-oper-fc.grib2 as 20250202000000-90h-oper-fc.grib2\n"
     ]
    },
    {
     "name": "stdout",
     "output_type": "stream",
     "text": [
      "Downloaded https://data.ecmwf.int/forecasts/20250202/00z/ifs/0p25/oper/20250202000000-96h-oper-fc.grib2 as 20250202000000-96h-oper-fc.grib2\n"
     ]
    },
    {
     "name": "stdout",
     "output_type": "stream",
     "text": [
      "Downloaded https://data.ecmwf.int/forecasts/20250202/00z/ifs/0p25/oper/20250202000000-99h-oper-fc.grib2 as 20250202000000-99h-oper-fc.grib2\n",
      "Downloaded https://data.ecmwf.int/forecasts/20250202/00z/ifs/0p25/oper/20250202000000-111h-oper-fc.grib2 as 20250202000000-111h-oper-fc.grib2\n"
     ]
    },
    {
     "name": "stdout",
     "output_type": "stream",
     "text": [
      "Downloaded https://data.ecmwf.int/forecasts/20250202/00z/ifs/0p25/oper/20250202000000-102h-oper-fc.grib2 as 20250202000000-102h-oper-fc.grib2\n"
     ]
    },
    {
     "name": "stdout",
     "output_type": "stream",
     "text": [
      "Downloaded https://data.ecmwf.int/forecasts/20250202/00z/ifs/0p25/oper/20250202000000-108h-oper-fc.grib2 as 20250202000000-108h-oper-fc.grib2\n"
     ]
    },
    {
     "name": "stdout",
     "output_type": "stream",
     "text": [
      "Downloaded https://data.ecmwf.int/forecasts/20250202/00z/ifs/0p25/oper/20250202000000-114h-oper-fc.grib2 as 20250202000000-114h-oper-fc.grib2\n"
     ]
    },
    {
     "name": "stdout",
     "output_type": "stream",
     "text": [
      "Downloaded https://data.ecmwf.int/forecasts/20250202/00z/ifs/0p25/oper/20250202000000-84h-oper-fc.grib2 as 20250202000000-84h-oper-fc.grib2\n"
     ]
    },
    {
     "name": "stdout",
     "output_type": "stream",
     "text": [
      "Downloaded https://data.ecmwf.int/forecasts/20250202/00z/ifs/0p25/oper/20250202000000-105h-oper-fc.grib2 as 20250202000000-105h-oper-fc.grib2\n"
     ]
    },
    {
     "name": "stdout",
     "output_type": "stream",
     "text": [
      "Downloaded https://data.ecmwf.int/forecasts/20250202/00z/ifs/0p25/oper/20250202000000-93h-oper-fc.grib2 as 20250202000000-93h-oper-fc.grib2\n"
     ]
    },
    {
     "name": "stdout",
     "output_type": "stream",
     "text": [
      "Downloaded https://data.ecmwf.int/forecasts/20250202/00z/ifs/0p25/oper/20250202000000-120h-oper-fc.grib2 as 20250202000000-120h-oper-fc.grib2\n"
     ]
    },
    {
     "name": "stdout",
     "output_type": "stream",
     "text": [
      "Downloaded https://data.ecmwf.int/forecasts/20250202/00z/ifs/0p25/oper/20250202000000-117h-oper-fc.grib2 as 20250202000000-117h-oper-fc.grib2\n"
     ]
    },
    {
     "name": "stdout",
     "output_type": "stream",
     "text": [
      "Downloaded https://data.ecmwf.int/forecasts/20250202/00z/ifs/0p25/oper/20250202000000-123h-oper-fc.grib2 as 20250202000000-123h-oper-fc.grib2\n"
     ]
    },
    {
     "name": "stdout",
     "output_type": "stream",
     "text": [
      "Downloaded https://data.ecmwf.int/forecasts/20250202/00z/ifs/0p25/oper/20250202000000-129h-oper-fc.grib2 as 20250202000000-129h-oper-fc.grib2\n"
     ]
    },
    {
     "name": "stdout",
     "output_type": "stream",
     "text": [
      "Downloaded https://data.ecmwf.int/forecasts/20250202/00z/ifs/0p25/oper/20250202000000-138h-oper-fc.grib2 as 20250202000000-138h-oper-fc.grib2\n"
     ]
    },
    {
     "name": "stdout",
     "output_type": "stream",
     "text": [
      "Downloaded https://data.ecmwf.int/forecasts/20250202/00z/ifs/0p25/oper/20250202000000-132h-oper-fc.grib2 as 20250202000000-132h-oper-fc.grib2\n"
     ]
    },
    {
     "name": "stdout",
     "output_type": "stream",
     "text": [
      "Downloaded https://data.ecmwf.int/forecasts/20250202/00z/ifs/0p25/oper/20250202000000-126h-oper-fc.grib2 as 20250202000000-126h-oper-fc.grib2\n"
     ]
    },
    {
     "name": "stdout",
     "output_type": "stream",
     "text": [
      "Downloaded https://data.ecmwf.int/forecasts/20250202/00z/ifs/0p25/oper/20250202000000-135h-oper-fc.grib2 as 20250202000000-135h-oper-fc.grib2\n"
     ]
    },
    {
     "name": "stdout",
     "output_type": "stream",
     "text": [
      "Downloaded https://data.ecmwf.int/forecasts/20250202/00z/ifs/0p25/oper/20250202000000-144h-oper-fc.grib2 as 20250202000000-144h-oper-fc.grib2\n"
     ]
    },
    {
     "name": "stdout",
     "output_type": "stream",
     "text": [
      "Downloaded https://data.ecmwf.int/forecasts/20250202/00z/ifs/0p25/oper/20250202000000-150h-oper-fc.grib2 as 20250202000000-150h-oper-fc.grib2\n"
     ]
    },
    {
     "name": "stdout",
     "output_type": "stream",
     "text": [
      "Downloaded https://data.ecmwf.int/forecasts/20250202/00z/ifs/0p25/oper/20250202000000-168h-oper-fc.grib2 as 20250202000000-168h-oper-fc.grib2\n"
     ]
    },
    {
     "name": "stdout",
     "output_type": "stream",
     "text": [
      "Downloaded https://data.ecmwf.int/forecasts/20250202/00z/ifs/0p25/oper/20250202000000-156h-oper-fc.grib2 as 20250202000000-156h-oper-fc.grib2\n"
     ]
    },
    {
     "name": "stdout",
     "output_type": "stream",
     "text": [
      "Downloaded https://data.ecmwf.int/forecasts/20250202/00z/ifs/0p25/oper/20250202000000-162h-oper-fc.grib2 as 20250202000000-162h-oper-fc.grib2\n"
     ]
    },
    {
     "name": "stdout",
     "output_type": "stream",
     "text": [
      "Downloaded https://data.ecmwf.int/forecasts/20250202/00z/ifs/0p25/oper/20250202000000-180h-oper-fc.grib2 as 20250202000000-180h-oper-fc.grib2\n",
      "Downloaded https://data.ecmwf.int/forecasts/20250202/00z/ifs/0p25/oper/20250202000000-141h-oper-fc.grib2 as 20250202000000-141h-oper-fc.grib2\n"
     ]
    },
    {
     "name": "stdout",
     "output_type": "stream",
     "text": [
      "Downloaded https://data.ecmwf.int/forecasts/20250202/00z/ifs/0p25/oper/20250202000000-174h-oper-fc.grib2 as 20250202000000-174h-oper-fc.grib2\n"
     ]
    },
    {
     "name": "stdout",
     "output_type": "stream",
     "text": [
      "Downloaded https://data.ecmwf.int/forecasts/20250202/00z/ifs/0p25/oper/20250202000000-186h-oper-fc.grib2 as 20250202000000-186h-oper-fc.grib2\n"
     ]
    },
    {
     "name": "stdout",
     "output_type": "stream",
     "text": [
      "Downloaded https://data.ecmwf.int/forecasts/20250202/00z/ifs/0p25/oper/20250202000000-198h-oper-fc.grib2 as 20250202000000-198h-oper-fc.grib2\n"
     ]
    },
    {
     "name": "stdout",
     "output_type": "stream",
     "text": [
      "Downloaded https://data.ecmwf.int/forecasts/20250202/00z/ifs/0p25/oper/20250202000000-192h-oper-fc.grib2 as 20250202000000-192h-oper-fc.grib2\n"
     ]
    },
    {
     "name": "stdout",
     "output_type": "stream",
     "text": [
      "Downloaded https://data.ecmwf.int/forecasts/20250202/00z/ifs/0p25/oper/20250202000000-204h-oper-fc.grib2 as 20250202000000-204h-oper-fc.grib2\n"
     ]
    },
    {
     "name": "stdout",
     "output_type": "stream",
     "text": [
      "Downloaded https://data.ecmwf.int/forecasts/20250202/00z/ifs/0p25/oper/20250202000000-210h-oper-fc.grib2 as 20250202000000-210h-oper-fc.grib2\n"
     ]
    },
    {
     "name": "stdout",
     "output_type": "stream",
     "text": [
      "Downloaded https://data.ecmwf.int/forecasts/20250202/00z/ifs/0p25/oper/20250202000000-222h-oper-fc.grib2 as 20250202000000-222h-oper-fc.grib2\n"
     ]
    },
    {
     "name": "stdout",
     "output_type": "stream",
     "text": [
      "Downloaded https://data.ecmwf.int/forecasts/20250202/00z/ifs/0p25/oper/20250202000000-216h-oper-fc.grib2 as 20250202000000-216h-oper-fc.grib2\n"
     ]
    },
    {
     "name": "stdout",
     "output_type": "stream",
     "text": [
      "Downloaded https://data.ecmwf.int/forecasts/20250202/00z/ifs/0p25/oper/20250202000000-228h-oper-fc.grib2 as 20250202000000-228h-oper-fc.grib2\n"
     ]
    },
    {
     "name": "stdout",
     "output_type": "stream",
     "text": [
      "Downloaded https://data.ecmwf.int/forecasts/20250202/00z/ifs/0p25/oper/20250202000000-246h-oper-fc.grib2 as 20250202000000-246h-oper-fc.grib2\n"
     ]
    },
    {
     "name": "stdout",
     "output_type": "stream",
     "text": [
      "Downloaded https://data.ecmwf.int/forecasts/20250202/00z/ifs/0p25/oper/20250202000000-234h-oper-fc.grib2 as 20250202000000-234h-oper-fc.grib2\n"
     ]
    },
    {
     "name": "stdout",
     "output_type": "stream",
     "text": [
      "Downloaded https://data.ecmwf.int/forecasts/20250202/00z/ifs/0p25/oper/20250202000000-240h-oper-fc.grib2 as 20250202000000-240h-oper-fc.grib2\n"
     ]
    },
    {
     "name": "stdout",
     "output_type": "stream",
     "text": [
      "Downloaded https://data.ecmwf.int/forecasts/20250202/00z/ifs/0p25/oper/20250202000000-252h-oper-fc.grib2 as 20250202000000-252h-oper-fc.grib2\n"
     ]
    },
    {
     "name": "stdout",
     "output_type": "stream",
     "text": [
      "Downloaded https://data.ecmwf.int/forecasts/20250202/00z/ifs/0p25/oper/20250202000000-258h-oper-fc.grib2 as 20250202000000-258h-oper-fc.grib2\n"
     ]
    },
    {
     "name": "stdout",
     "output_type": "stream",
     "text": [
      "Downloaded https://data.ecmwf.int/forecasts/20250202/00z/ifs/0p25/oper/20250202000000-270h-oper-fc.grib2 as 20250202000000-270h-oper-fc.grib2\n"
     ]
    },
    {
     "name": "stdout",
     "output_type": "stream",
     "text": [
      "Downloaded https://data.ecmwf.int/forecasts/20250202/00z/ifs/0p25/oper/20250202000000-276h-oper-fc.grib2 as 20250202000000-276h-oper-fc.grib2\n"
     ]
    },
    {
     "name": "stdout",
     "output_type": "stream",
     "text": [
      "Downloaded https://data.ecmwf.int/forecasts/20250202/00z/ifs/0p25/oper/20250202000000-264h-oper-fc.grib2 as 20250202000000-264h-oper-fc.grib2\n"
     ]
    },
    {
     "name": "stdout",
     "output_type": "stream",
     "text": [
      "Downloaded https://data.ecmwf.int/forecasts/20250202/00z/ifs/0p25/oper/20250202000000-282h-oper-fc.grib2 as 20250202000000-282h-oper-fc.grib2\n"
     ]
    },
    {
     "name": "stdout",
     "output_type": "stream",
     "text": [
      "Downloaded https://data.ecmwf.int/forecasts/20250202/00z/ifs/0p25/oper/20250202000000-288h-oper-fc.grib2 as 20250202000000-288h-oper-fc.grib2\n"
     ]
    },
    {
     "name": "stdout",
     "output_type": "stream",
     "text": [
      "Downloaded https://data.ecmwf.int/forecasts/20250202/00z/ifs/0p25/oper/20250202000000-294h-oper-fc.grib2 as 20250202000000-294h-oper-fc.grib2\n"
     ]
    },
    {
     "name": "stdout",
     "output_type": "stream",
     "text": [
      "Downloaded https://data.ecmwf.int/forecasts/20250202/00z/ifs/0p25/oper/20250202000000-300h-oper-fc.grib2 as 20250202000000-300h-oper-fc.grib2\n"
     ]
    },
    {
     "name": "stdout",
     "output_type": "stream",
     "text": [
      "Downloaded https://data.ecmwf.int/forecasts/20250202/00z/ifs/0p25/oper/20250202000000-306h-oper-fc.grib2 as 20250202000000-306h-oper-fc.grib2\n"
     ]
    },
    {
     "name": "stdout",
     "output_type": "stream",
     "text": [
      "Downloaded https://data.ecmwf.int/forecasts/20250202/00z/ifs/0p25/oper/20250202000000-312h-oper-fc.grib2 as 20250202000000-312h-oper-fc.grib2\n"
     ]
    },
    {
     "name": "stdout",
     "output_type": "stream",
     "text": [
      "Downloaded https://data.ecmwf.int/forecasts/20250202/00z/ifs/0p25/oper/20250202000000-324h-oper-fc.grib2 as 20250202000000-324h-oper-fc.grib2\n"
     ]
    },
    {
     "name": "stdout",
     "output_type": "stream",
     "text": [
      "Downloaded https://data.ecmwf.int/forecasts/20250202/00z/ifs/0p25/oper/20250202000000-318h-oper-fc.grib2 as 20250202000000-318h-oper-fc.grib2\n"
     ]
    },
    {
     "name": "stdout",
     "output_type": "stream",
     "text": [
      "Downloaded https://data.ecmwf.int/forecasts/20250202/00z/ifs/0p25/oper/20250202000000-330h-oper-fc.grib2 as 20250202000000-330h-oper-fc.grib2\n"
     ]
    },
    {
     "name": "stdout",
     "output_type": "stream",
     "text": [
      "Downloaded https://data.ecmwf.int/forecasts/20250202/00z/ifs/0p25/oper/20250202000000-336h-oper-fc.grib2 as 20250202000000-336h-oper-fc.grib2\n"
     ]
    },
    {
     "name": "stdout",
     "output_type": "stream",
     "text": [
      "Downloaded https://data.ecmwf.int/forecasts/20250202/00z/ifs/0p25/oper/20250202000000-342h-oper-fc.grib2 as 20250202000000-342h-oper-fc.grib2\n"
     ]
    },
    {
     "name": "stdout",
     "output_type": "stream",
     "text": [
      "Downloaded https://data.ecmwf.int/forecasts/20250202/00z/ifs/0p25/oper/20250202000000-348h-oper-fc.grib2 as 20250202000000-348h-oper-fc.grib2\n"
     ]
    },
    {
     "name": "stdout",
     "output_type": "stream",
     "text": [
      "Downloaded https://data.ecmwf.int/forecasts/20250202/00z/ifs/0p25/oper/20250202000000-354h-oper-fc.grib2 as 20250202000000-354h-oper-fc.grib2\n"
     ]
    },
    {
     "name": "stdout",
     "output_type": "stream",
     "text": [
      "Downloaded https://data.ecmwf.int/forecasts/20250202/00z/ifs/0p25/oper/20250202000000-360h-oper-fc.grib2 as 20250202000000-360h-oper-fc.grib2\n"
     ]
    }
   ],
   "source": [
    "import concurrent.futures\n",
    "import requests\n",
    "import os\n",
    "\n",
    "# Generate the list of forecast hours\n",
    "# First, forecast every 3 hours from 0 to 144 hours, then every 6 hours from 150 to 360 hours\n",
    "forecast_hours = [str(i) for i in range(0, 145, 3)] + [str(i) for i in range(150, 361, 6)]\n",
    "\n",
    "# Generate the URLs directly into the list\n",
    "ec_data_list = [\n",
    "    f'https://data.ecmwf.int/forecasts/{date}/{run}z/ifs/0p25/oper/{date}{run}0000-{step}h-oper-fc.grib2'\n",
    "    for step in forecast_hours\n",
    "]\n",
    "\n",
    "# Function to download a single URL\n",
    "def download_data(index, url):\n",
    "    # Extract the original file name from the URL\n",
    "    file_name = url.split('/')[-1]  # This gets the file name from the URL\n",
    "    \n",
    "    try:\n",
    "        # Send a GET request to the URL\n",
    "        response = requests.get(url)\n",
    "        \n",
    "        # Check if the request was successful\n",
    "        if response.status_code == 200:\n",
    "            # Write the content to a file directly into the current working directory\n",
    "            with open(file_name, 'wb') as f:\n",
    "                f.write(response.content)\n",
    "            print(f\"Downloaded {url} as {file_name}\")\n",
    "        else:\n",
    "            print(f\"Failed to download {url} (HTTP {response.status_code})\")\n",
    "    except Exception as e:\n",
    "        print(f\"Error downloading {url}: {e}\")\n",
    "\n",
    "# Example of using the list for concurrent downloads\n",
    "with concurrent.futures.ThreadPoolExecutor() as executor:\n",
    "    futures = [executor.submit(download_data, idx, url) for idx, url in enumerate(ec_data_list)]\n",
    "\n",
    "    # Wait for all downloads to complete\n",
    "    for future in concurrent.futures.as_completed(futures):\n",
    "        future.result()  # Block until all downloads are complete\n"
   ]
  },
  {
   "cell_type": "markdown",
   "id": "92fbcda9-2fa9-49d2-b849-d28a7fdd053e",
   "metadata": {
    "papermill": {
     "duration": 0.002394,
     "end_time": "2025-02-02T09:50:58.776968",
     "exception": false,
     "start_time": "2025-02-02T09:50:58.774574",
     "status": "completed"
    },
    "tags": []
   },
   "source": [
    "### process & create netcdf"
   ]
  },
  {
   "cell_type": "code",
   "execution_count": 8,
   "id": "261a295c",
   "metadata": {
    "papermill": {
     "duration": 211.481613,
     "end_time": "2025-02-02T09:54:30.260695",
     "exception": false,
     "start_time": "2025-02-02T09:50:58.779082",
     "status": "completed"
    },
    "tags": []
   },
   "outputs": [
    {
     "name": "stdout",
     "output_type": "stream",
     "text": [
      "Processing variable: u\n",
      "Successfully loaded dataset for variable: u\n",
      "Processing variable: v\n",
      "Successfully loaded dataset for variable: v\n",
      "Processing variable: r\n",
      "Successfully loaded dataset for variable: r\n",
      "Processing variable: gh\n",
      "Successfully loaded dataset for variable: gh\n",
      "Processing variable: t\n",
      "Successfully loaded dataset for variable: t\n",
      "Processing variable: tp\n",
      "Successfully loaded dataset for variable: tp\n",
      "Processing variable: skt\n",
      "Successfully loaded dataset for variable: skt\n",
      "Processing variable: t2m\n",
      "Successfully loaded dataset for variable: t2m\n",
      "Processing variable: sp\n",
      "Successfully loaded dataset for variable: sp\n",
      "Processing variable: st\n",
      "Successfully loaded dataset for variable: st\n",
      "Processing variable: msl\n",
      "Successfully loaded dataset for variable: msl\n",
      "Processing variable: tcwv\n",
      "Successfully loaded dataset for variable: tcwv\n",
      "Processing variable: q\n",
      "Successfully loaded dataset for variable: q\n",
      "Processing variable: vo\n",
      "Successfully loaded dataset for variable: vo\n",
      "Processing variable: d\n",
      "Successfully loaded dataset for variable: d\n",
      "Processing variable: ro\n",
      "Successfully loaded dataset for variable: ro\n",
      "Processing variable: u10\n",
      "Successfully loaded dataset for variable: u10\n",
      "Processing variable: v10\n",
      "Successfully loaded dataset for variable: v10\n",
      "Processing variable: cape\n",
      "Successfully loaded dataset for variable: cape\n",
      "Merge and sorting successful!\n"
     ]
    },
    {
     "name": "stdout",
     "output_type": "stream",
     "text": [
      "Successfully loaded dataset for variable: v\n",
      "Processing variable: r\n"
     ]
    },
    {
     "name": "stdout",
     "output_type": "stream",
     "text": [
      "Successfully loaded dataset for variable: r\n",
      "Processing variable: gh\n"
     ]
    },
    {
     "name": "stdout",
     "output_type": "stream",
     "text": [
      "Successfully loaded dataset for variable: gh\n",
      "Processing variable: t\n"
     ]
    },
    {
     "name": "stdout",
     "output_type": "stream",
     "text": [
      "Successfully loaded dataset for variable: t\n",
      "Processing variable: tp\n"
     ]
    },
    {
     "name": "stdout",
     "output_type": "stream",
     "text": [
      "Successfully loaded dataset for variable: tp\n",
      "Processing variable: skt\n"
     ]
    },
    {
     "name": "stdout",
     "output_type": "stream",
     "text": [
      "Successfully loaded dataset for variable: skt\n",
      "Processing variable: t2m\n"
     ]
    },
    {
     "name": "stdout",
     "output_type": "stream",
     "text": [
      "Successfully loaded dataset for variable: t2m\n",
      "Processing variable: sp\n"
     ]
    },
    {
     "name": "stdout",
     "output_type": "stream",
     "text": [
      "Successfully loaded dataset for variable: sp\n",
      "Processing variable: st\n",
      "Successfully loaded dataset for variable: st\n",
      "Processing variable: msl\n"
     ]
    },
    {
     "name": "stdout",
     "output_type": "stream",
     "text": [
      "Successfully loaded dataset for variable: msl\n",
      "Processing variable: tcwv\n"
     ]
    },
    {
     "name": "stdout",
     "output_type": "stream",
     "text": [
      "Successfully loaded dataset for variable: tcwv\n",
      "Processing variable: q\n"
     ]
    },
    {
     "name": "stdout",
     "output_type": "stream",
     "text": [
      "Successfully loaded dataset for variable: q\n",
      "Processing variable: vo\n"
     ]
    },
    {
     "name": "stdout",
     "output_type": "stream",
     "text": [
      "Successfully loaded dataset for variable: vo\n",
      "Processing variable: d\n"
     ]
    },
    {
     "name": "stdout",
     "output_type": "stream",
     "text": [
      "Successfully loaded dataset for variable: d\n",
      "Processing variable: ro\n"
     ]
    },
    {
     "name": "stdout",
     "output_type": "stream",
     "text": [
      "Successfully loaded dataset for variable: ro\n",
      "Processing variable: u10\n"
     ]
    },
    {
     "name": "stdout",
     "output_type": "stream",
     "text": [
      "Successfully loaded dataset for variable: u10\n",
      "Processing variable: v10\n"
     ]
    },
    {
     "name": "stdout",
     "output_type": "stream",
     "text": [
      "Successfully loaded dataset for variable: v10\n",
      "Processing variable: cape\n",
      "Successfully loaded dataset for variable: cape\n",
      "Merge and sorting successful!\n"
     ]
    }
   ],
   "source": [
    "import xarray as xr\n",
    "\n",
    "# Variable names\n",
    "var_names = ['u', 'v', 'r', 'gh', 't', 'tp', 'skt', 't2m', 'sp', 'st', 'msl', 'tcwv', \n",
    "             'q', 'vo', 'd', 'ro', 'u10', 'v10', 'cape']\n",
    "\n",
    "# Path to GRIB2 files\n",
    "grib_files = glob.glob(\"*.grib2\")\n",
    "\n",
    "ds_list = []\n",
    "\n",
    "for v in var_names:\n",
    "    print(f\"Processing variable: {v}\")\n",
    "    try:\n",
    "        # Open datasets with filtering by variable name\n",
    "        ds = xr.open_mfdataset(\n",
    "            grib_files,\n",
    "            engine=\"cfgrib\",\n",
    "            backend_kwargs={\"filter_by_keys\": {\"cfVarName\": v}},\n",
    "            concat_dim=\"valid_time\",\n",
    "            combine=\"nested\",\n",
    "        )\n",
    "        print(f\"Successfully loaded dataset for variable: {v}\")\n",
    "        ds_list.append(ds)\n",
    "\n",
    "    except Exception as e:\n",
    "        print(f\"Error for variable {v}: {e}\")\n",
    "\n",
    "# Merge all datasets\n",
    "try:\n",
    "    ecmwf = xr.merge(ds_list, compat=\"override\")\n",
    "    ecmwf = ecmwf.sortby('valid_time')  # Sort the merged dataset by valid_time\n",
    "    print(\"Merge and sorting successful!\")\n",
    "except Exception as e:\n",
    "    print(f\"Error during merge or sorting: {e}\")\n",
    "\n",
    "ecmwf.to_netcdf('ecmwf.nc')\n"
   ]
  },
  {
   "cell_type": "code",
   "execution_count": null,
   "id": "b540bd95-8570-4f35-a6ac-e0a439cdd6da",
   "metadata": {
    "papermill": {
     "duration": 0.003755,
     "end_time": "2025-02-02T09:54:30.273405",
     "exception": false,
     "start_time": "2025-02-02T09:54:30.269650",
     "status": "completed"
    },
    "tags": []
   },
   "outputs": [],
   "source": []
  }
 ],
 "metadata": {
  "kernelspec": {
   "display_name": "Python 3 (ipykernel)",
   "language": "python",
   "name": "python3"
  },
  "language_info": {
   "codemirror_mode": {
    "name": "ipython",
    "version": 3
   },
   "file_extension": ".py",
   "mimetype": "text/x-python",
   "name": "python",
   "nbconvert_exporter": "python",
   "pygments_lexer": "ipython3",
   "version": "3.12.7"
  },
  "papermill": {
   "default_parameters": {},
   "duration": 786.161636,
   "end_time": "2025-02-02T09:54:30.800343",
   "environment_variables": {},
   "exception": null,
   "input_path": "ecmwf_download.ipynb",
   "output_path": "ecmwf_download.ipynb",
   "parameters": {},
   "start_time": "2025-02-02T09:41:24.638707",
   "version": "2.3.4"
  }
 },
 "nbformat": 4,
 "nbformat_minor": 5
}
