{
 "cells": [
  {
   "cell_type": "code",
   "execution_count": 1,
   "id": "46c5dd82",
   "metadata": {
    "papermill": {
     "duration": 1.229309,
     "end_time": "2022-09-05T08:23:10.621204",
     "exception": false,
     "start_time": "2022-09-05T08:23:09.391895",
     "status": "completed"
    },
    "tags": []
   },
   "outputs": [],
   "source": [
    "%matplotlib inline\n",
    "import matplotlib as mpl\n",
    "import matplotlib.pyplot as plt\n",
    "import matplotlib.colors as colors\n",
    "from matplotlib.patches import Patch\n",
    "from matplotlib.colors import LinearSegmentedColormap\n",
    "import matplotlib.ticker as mticker\n",
    "import scipy.ndimage as ndimage"
   ]
  },
  {
   "cell_type": "code",
   "execution_count": 2,
   "id": "b57ef63d",
   "metadata": {
    "papermill": {
     "duration": 2.853936,
     "end_time": "2022-09-05T08:23:13.510468",
     "exception": false,
     "start_time": "2022-09-05T08:23:10.656532",
     "status": "completed"
    },
    "tags": []
   },
   "outputs": [],
   "source": [
    "from cartopy import config\n",
    "import cartopy.crs as ccrs\n",
    "import cartopy.feature as cfeature\n",
    "from cartopy.io.shapereader import Reader\n",
    "from cartopy.feature import ShapelyFeature\n",
    "from cartopy.util import add_cyclic_point\n",
    "from cartopy.mpl.gridliner import LONGITUDE_FORMATTER, LATITUDE_FORMATTER\n",
    "from metpy.plots import USCOUNTIES\n",
    "import matplotlib.patheffects as pe"
   ]
  },
  {
   "cell_type": "code",
   "execution_count": 3,
   "id": "21de1b71",
   "metadata": {
    "papermill": {
     "duration": 0.114938,
     "end_time": "2022-09-05T08:23:13.659204",
     "exception": false,
     "start_time": "2022-09-05T08:23:13.544266",
     "status": "completed"
    },
    "tags": []
   },
   "outputs": [],
   "source": [
    "import cmocean\n",
    "import xarray as xr\n",
    "import numpy as np\n",
    "import pathlib\n",
    "import sys\n",
    "import os\n",
    "import pandas as pd"
   ]
  },
  {
   "cell_type": "code",
   "execution_count": 31,
   "id": "cb4a5e85",
   "metadata": {
    "papermill": {
     "duration": 0.408703,
     "end_time": "2022-09-05T08:23:14.099872",
     "exception": false,
     "start_time": "2022-09-05T08:23:13.691169",
     "status": "completed"
    },
    "tags": []
   },
   "outputs": [],
   "source": [
    "from dateparser import parse\n",
    "from matplotlib import font_manager"
   ]
  },
  {
   "cell_type": "markdown",
   "id": "2fa6e589-ed02-4f95-bd12-f4f2423a2aa7",
   "metadata": {},
   "source": [
    "### loads custom color map"
   ]
  },
  {
   "cell_type": "code",
   "execution_count": 5,
   "id": "cc42ae02",
   "metadata": {
    "papermill": {
     "duration": 0.057531,
     "end_time": "2022-09-05T08:23:14.268026",
     "exception": false,
     "start_time": "2022-09-05T08:23:14.210495",
     "status": "completed"
    },
    "tags": []
   },
   "outputs": [],
   "source": [
    "from cpt_convert import loadCPT\n",
    "cpt = loadCPT('/Users/nollb/weather/cpt/pwat2.cpt')\n",
    "cpt_convert = LinearSegmentedColormap('cpt', cpt)"
   ]
  },
  {
   "cell_type": "code",
   "execution_count": 6,
   "id": "f0a5ddff",
   "metadata": {
    "papermill": {
     "duration": 0.061394,
     "end_time": "2022-09-05T08:23:14.449550",
     "exception": false,
     "start_time": "2022-09-05T08:23:14.388156",
     "status": "completed"
    },
    "tags": []
   },
   "outputs": [
    {
     "data": {
      "image/png": "[encoded data removed]",
      "text/html": [
       "<div style=\"vertical-align: middle;\"><strong>cpt</strong> </div><div class=\"cmap\"><img alt=\"cpt colormap\" title=\"cpt\" style=\"border: 1px solid #555;\" src=\"data:image/png;base64,iVBORw0KGgoAAAANSUhEUgAAAgAAAABACAYAAABsv8+/AAAAEnRFWHRUaXRsZQBjcHQgY29sb3JtYXAAsVxJAAAAGHRFWHREZXNjcmlwdGlvbgBjcHQgY29sb3JtYXAMmS4TAAAAMHRFWHRBdXRob3IATWF0cGxvdGxpYiB2My45LjIsIGh0dHBzOi8vbWF0cGxvdGxpYi5vcmdhmcVTAAAAMnRFWHRTb2Z0d2FyZQBNYXRwbG90bGliIHYzLjkuMiwgaHR0cHM6Ly9tYXRwbG90bGliLm9yZ08/WnQAAAJXSURBVHic7dZLkpswAEVR8Ul6UVlUtp92G8gARBWyCU61Z++ciQJCAhyq63a/f3VLKaV0QymllDIMXSmllH5cx2Fsjod6vjyf34+fz/fD8bq6T9/cd6zzP57PD+39HubLv99jf5/ydJ/T92jm534d7/NyGL/2sRyPp3Z+HW/7dfO2z3Hd7WHd833bffbrpua65WK/h32P191P3ufzYv7W7H+v88v6Oy71P3z4eTJezI8fJ+dP5vtmfvhojl/cv50f64fb3r+5z9lztvPt85w9R73ftH3YX+tQbs14dr4dP1+8rh3/vGnfet3Z817t8835bvue++30sP2j/t3o++P5q+Or9Zfr6vzwf+v65r77+e7FfS6e9/vr1r8Dpaw/+LLc13Fex3leP4BlOh7P88l1b1q3Xze9a93x+PR56/F0sf/F+zyuX8ey/b71uwYAgggAAAgkAAAgkAAAgEACAAACCQAACCQAACCQAACAQAIAAAIJAAAIJAAAIJAAAIBAAgAAAgkAAAgkAAAgkAAAgEACAAACCQAACCQAACCQAACAQAIAAAIJAAAIJAAAIJAAAIBAAgAAAgkAAAgkAAAgkAAAgEACAAACCQAACCQAACCQAACAQAIAAAIJAAAIJAAAIJAAAIBAAgAAAgkAAAgkAAAgkAAAgEACAAACCQAACCQAACCQAACAQAIAAAIJAAAIJAAAIJAAAIBAAgAAAgkAAAgkAAAgkAAAgEACAAACCQAACCQAACCQAACAQAIAAAIJAAAIJAAAIJAAAIBAAgAAAgkAAAgkAAAg0F+uNyb4DTmB0wAAAABJRU5ErkJggg==\"></div><div style=\"vertical-align: middle; max-width: 514px; display: flex; justify-content: space-between;\"><div style=\"float: left;\"><div title=\"#6f3b01ff\" style=\"display: inline-block; width: 1em; height: 1em; margin: 0; vertical-align: middle; border: 1px solid #555; background-color: #6f3b01ff;\"></div> under</div><div style=\"margin: 0 auto; display: inline-block;\">bad <div title=\"#00000000\" style=\"display: inline-block; width: 1em; height: 1em; margin: 0; vertical-align: middle; border: 1px solid #555; background-color: #00000000;\"></div></div><div style=\"float: right;\">over <div title=\"#340135ff\" style=\"display: inline-block; width: 1em; height: 1em; margin: 0; vertical-align: middle; border: 1px solid #555; background-color: #340135ff;\"></div></div></div>"
      ],
      "text/plain": [
       "<matplotlib.colors.LinearSegmentedColormap at 0x14603cbf0>"
      ]
     },
     "execution_count": 6,
     "metadata": {},
     "output_type": "execute_result"
    }
   ],
   "source": [
    "cpt_convert"
   ]
  },
  {
   "cell_type": "markdown",
   "id": "c318d055",
   "metadata": {
    "papermill": {
     "duration": 0.034873,
     "end_time": "2022-09-05T08:23:14.672551",
     "exception": false,
     "start_time": "2022-09-05T08:23:14.637678",
     "status": "completed"
    },
    "tags": []
   },
   "source": [
    "### parses dates and run time"
   ]
  },
  {
   "cell_type": "code",
   "execution_count": 8,
   "id": "7c6ea7dc",
   "metadata": {
    "papermill": {
     "duration": 0.056487,
     "end_time": "2022-09-05T08:23:14.882604",
     "exception": false,
     "start_time": "2022-09-05T08:23:14.826117",
     "status": "completed"
    },
    "tags": []
   },
   "outputs": [],
   "source": [
    "date = parse('today GMT')\n",
    "\n",
    "date = date.strftime(\"%Y%m%d\")"
   ]
  },
  {
   "cell_type": "markdown",
   "id": "ece9b462",
   "metadata": {},
   "source": [
    "### defines fig path"
   ]
  },
  {
   "cell_type": "code",
   "execution_count": 9,
   "id": "ff51cc5f",
   "metadata": {},
   "outputs": [],
   "source": [
    "fig_path = \"../imagery/{}/pwat_pressure\".format(date)"
   ]
  },
  {
   "cell_type": "code",
   "execution_count": 10,
   "id": "64874bfe",
   "metadata": {},
   "outputs": [],
   "source": [
    "fig_path = pathlib.Path(fig_path)"
   ]
  },
  {
   "cell_type": "code",
   "execution_count": 11,
   "id": "d68754af",
   "metadata": {},
   "outputs": [],
   "source": [
    "if fig_path.exists() == False:\n",
    "    fig_path.mkdir(parents = True)"
   ]
  },
  {
   "cell_type": "markdown",
   "id": "5bcf61ab",
   "metadata": {
    "papermill": {
     "duration": 0.035759,
     "end_time": "2022-09-05T08:23:15.881548",
     "exception": false,
     "start_time": "2022-09-05T08:23:15.845789",
     "status": "completed"
    },
    "tags": []
   },
   "source": [
    "### opens dset"
   ]
  },
  {
   "cell_type": "code",
   "execution_count": 12,
   "id": "fd22b480",
   "metadata": {
    "papermill": {
     "duration": 0.044736,
     "end_time": "2022-09-05T08:23:15.962881",
     "exception": false,
     "start_time": "2022-09-05T08:23:15.918145",
     "status": "completed"
    },
    "tags": []
   },
   "outputs": [],
   "source": [
    "ds = xr.open_dataset('../data/ecmwf.nc')"
   ]
  },
  {
   "cell_type": "markdown",
   "id": "c32e0867",
   "metadata": {},
   "source": [
    "### data munging"
   ]
  },
  {
   "cell_type": "code",
   "execution_count": 16,
   "id": "e9541398",
   "metadata": {
    "papermill": {
     "duration": 0.08929,
     "end_time": "2022-09-05T08:24:50.075738",
     "exception": false,
     "start_time": "2022-09-05T08:24:49.986448",
     "status": "completed"
    },
    "tags": []
   },
   "outputs": [],
   "source": [
    "tcwv = ds['tcwv']*0.0393701 # Converts water vapor to inches"
   ]
  },
  {
   "cell_type": "code",
   "execution_count": 17,
   "id": "9bc90ea0",
   "metadata": {},
   "outputs": [],
   "source": [
    "tcwv = tcwv.sortby('valid_time')"
   ]
  },
  {
   "cell_type": "code",
   "execution_count": 18,
   "id": "19063254",
   "metadata": {
    "papermill": {
     "duration": 0.100902,
     "end_time": "2022-09-05T08:24:50.260121",
     "exception": false,
     "start_time": "2022-09-05T08:24:50.159219",
     "status": "completed"
    },
    "tags": []
   },
   "outputs": [],
   "source": [
    "mslp = ds['msl']"
   ]
  },
  {
   "cell_type": "code",
   "execution_count": 19,
   "id": "8d9c71e2",
   "metadata": {},
   "outputs": [],
   "source": [
    "mslp = mslp / 100 # Converts air pressure to mean sea level"
   ]
  },
  {
   "cell_type": "code",
   "execution_count": 20,
   "id": "ef234845",
   "metadata": {},
   "outputs": [],
   "source": [
    "mslp = mslp.sortby('valid_time')"
   ]
  },
  {
   "cell_type": "markdown",
   "id": "9544e451",
   "metadata": {},
   "source": [
    "### applies filter to smooth air pressure contour lines"
   ]
  },
  {
   "cell_type": "code",
   "execution_count": 21,
   "id": "cbbc0218",
   "metadata": {},
   "outputs": [],
   "source": [
    "mslp = ndimage.gaussian_filter(mslp, sigma=0.75, order=0)"
   ]
  },
  {
   "cell_type": "markdown",
   "id": "cea670ad",
   "metadata": {
    "papermill": {
     "duration": 0.065504,
     "end_time": "2022-09-05T08:24:50.533884",
     "exception": false,
     "start_time": "2022-09-05T08:24:50.468380",
     "status": "completed"
    },
    "tags": []
   },
   "source": [
    "### sets time"
   ]
  },
  {
   "cell_type": "code",
   "execution_count": 22,
   "id": "8e5847b6",
   "metadata": {
    "papermill": {
     "duration": 0.084365,
     "end_time": "2022-09-05T08:24:50.686013",
     "exception": false,
     "start_time": "2022-09-05T08:24:50.601648",
     "status": "completed"
    },
    "tags": []
   },
   "outputs": [],
   "source": [
    "conv = tcwv['valid_time'].dt.strftime('%Y-%m-%d %H')"
   ]
  },
  {
   "cell_type": "code",
   "execution_count": 23,
   "id": "08c97aa6",
   "metadata": {
    "papermill": {
     "duration": 0.084727,
     "end_time": "2022-09-05T08:24:50.843276",
     "exception": false,
     "start_time": "2022-09-05T08:24:50.758549",
     "status": "completed"
    },
    "tags": []
   },
   "outputs": [],
   "source": [
    "conv = conv.values"
   ]
  },
  {
   "cell_type": "code",
   "execution_count": 24,
   "id": "3c43575a",
   "metadata": {
    "papermill": {
     "duration": 0.101799,
     "end_time": "2022-09-05T08:24:51.766155",
     "exception": false,
     "start_time": "2022-09-05T08:24:51.664356",
     "status": "completed"
    },
    "tags": []
   },
   "outputs": [
    {
     "name": "stderr",
     "output_type": "stream",
     "text": [
      "/opt/anaconda3/envs/climate/lib/python3.12/site-packages/xarray/core/accessor_dt.py:163: FutureWarning: 'H' is deprecated and will be removed in a future version, please use 'h' instead.\n",
      "  field_values = method(freq=freq).values\n"
     ]
    }
   ],
   "source": [
    "valid_time = tcwv['valid_time'].dt.round('H')"
   ]
  },
  {
   "cell_type": "code",
   "execution_count": 25,
   "id": "a133e41e",
   "metadata": {
    "papermill": {
     "duration": 0.07336,
     "end_time": "2022-09-05T08:24:51.914489",
     "exception": false,
     "start_time": "2022-09-05T08:24:51.841129",
     "status": "completed"
    },
    "tags": []
   },
   "outputs": [],
   "source": [
    "utc = valid_time.to_index()"
   ]
  },
  {
   "cell_type": "code",
   "execution_count": 26,
   "id": "cba810d1",
   "metadata": {
    "papermill": {
     "duration": 0.183002,
     "end_time": "2022-09-05T08:24:52.170065",
     "exception": false,
     "start_time": "2022-09-05T08:24:51.987063",
     "status": "completed"
    },
    "tags": []
   },
   "outputs": [],
   "source": [
    "local = utc.tz_localize('GMT').tz_convert('America/New_York')"
   ]
  },
  {
   "cell_type": "code",
   "execution_count": 27,
   "id": "07564703",
   "metadata": {
    "papermill": {
     "duration": 0.126688,
     "end_time": "2022-09-05T08:24:52.371492",
     "exception": false,
     "start_time": "2022-09-05T08:24:52.244804",
     "status": "completed"
    },
    "tags": []
   },
   "outputs": [],
   "source": [
    "local_time = local.strftime(\"%Y-%m-%d\")"
   ]
  },
  {
   "cell_type": "code",
   "execution_count": 28,
   "id": "93b34645",
   "metadata": {},
   "outputs": [],
   "source": [
    "formatted_dates = pd.to_datetime(local_time).strftime(\"%b. %d\")"
   ]
  },
  {
   "cell_type": "markdown",
   "id": "52368c9b",
   "metadata": {
    "papermill": {
     "duration": 0.059699,
     "end_time": "2022-09-05T08:24:52.623638",
     "exception": false,
     "start_time": "2022-09-05T08:24:52.563939",
     "status": "completed"
    },
    "tags": []
   },
   "source": [
    "### plots"
   ]
  },
  {
   "cell_type": "code",
   "execution_count": 29,
   "id": "c4d2f0d1-3aaa-4d25-91f2-1a970836d67f",
   "metadata": {},
   "outputs": [],
   "source": [
    "lats = ds.variables['latitude'][:]  \n",
    "lons = ds.variables['longitude'][:]"
   ]
  },
  {
   "cell_type": "markdown",
   "id": "28336a06",
   "metadata": {},
   "source": [
    "### wapo styling"
   ]
  },
  {
   "cell_type": "code",
   "execution_count": 32,
   "id": "d7ebfbf5",
   "metadata": {},
   "outputs": [],
   "source": [
    "font_path = '../fonts/Franklin/FranklinITCStd-Black.otf'\n",
    "font_properties = font_manager.FontProperties(fname=font_path)\n",
    "\n",
    "font_path2 = '../fonts/Franklin/FranklinITCStd-Bold.otf'\n",
    "font_properties2 = font_manager.FontProperties(fname=font_path2)\n",
    "\n",
    "font_path3 = '../fonts/Franklin/FranklinITCStd-Light.otf'\n",
    "font_properties3 = font_manager.FontProperties(fname=font_path3, size=24)"
   ]
  },
  {
   "cell_type": "markdown",
   "id": "83864310",
   "metadata": {},
   "source": [
    "### pwat & mslp"
   ]
  },
  {
   "cell_type": "code",
   "execution_count": null,
   "id": "8a9a2bef",
   "metadata": {},
   "outputs": [],
   "source": [
    "for i in range(len(ds.valid_time)):\n",
    "\n",
    "    fig = plt.figure(figsize=[25,15])\n",
    "\n",
    "    # Define projection parameters for different U.S. regions\n",
    "    usa_projections = {\n",
    "        \"central\": {\"central_longitude\": 265, \"central_latitude\": 42, \"satellite_height\": 4000000},\n",
    "        \"eastern\": {\"central_longitude\": 283, \"central_latitude\": 42, \"satellite_height\": 4000000},\n",
    "        \"western\": {\"central_longitude\": 240, \"central_latitude\": 42, \"satellite_height\": 4000000},\n",
    "    }\n",
    "\n",
    "    # Choose a region: 'central', 'eastern', or 'western'\n",
    "    region = \"central\"  # Change this to 'eastern' or 'western' as needed\n",
    "\n",
    "    # Create the projection for the selected region\n",
    "    projection_params = usa_projections[region]\n",
    "    ax = plt.axes(\n",
    "        projection=ccrs.NearsidePerspective(\n",
    "            central_longitude=projection_params[\"central_longitude\"],\n",
    "            central_latitude=projection_params[\"central_latitude\"],\n",
    "            satellite_height=projection_params[\"satellite_height\"],\n",
    "        )\n",
    "    )\n",
    "\n",
    "    # Add features to the map (e.g., land, coastlines)\n",
    "    states_provinces = cfeature.NaturalEarthFeature(\n",
    "        category='cultural',\n",
    "        name='admin_1_states_provinces_lines',\n",
    "        scale='10m',\n",
    "        facecolor='none')\n",
    "\n",
    "    ax.add_feature(cfeature.LAND, color='#F5F5F5', edgecolor='k')\n",
    "    ax.coastlines(resolution='50m', color='white', linewidth=0.8)\n",
    "    ax.add_feature(cfeature.BORDERS, edgecolor='white')\n",
    "    ax.add_feature(cfeature.LAKES, edgecolor='white', alpha=0.2)\n",
    "    ax.add_feature(states_provinces, edgecolor='white')\n",
    "\n",
    "    plt.suptitle(f'Atmospheric moisture & air pressure, {formatted_dates[i]}', \n",
    "             fontsize=30, color='k', fontproperties=font_properties2, y=0.97, x=0.5)\n",
    "\n",
    "    # Create the legend for \"above\" and \"below\" using colors from the bwr colormap\n",
    "    cmap = cpt_convert  # Get the colormap\n",
    "    low_color = cmap(0.1)\n",
    "    medium_color = cmap(0.4)\n",
    "    high_color = cmap(0.8)\n",
    "\n",
    "    legend_labels = {\"low\": \"Low\", \"medium\": \"Medium\", \"high\": \"High\"}\n",
    "    patches = [Patch(color=low_color, label=legend_labels[\"low\"]),\n",
    "               Patch(color=medium_color, label=legend_labels[\"medium\"]),\n",
    "               Patch(color=high_color, label=legend_labels[\"high\"])]\n",
    "\n",
    "    # Plot contourf\n",
    "    data = ax.pcolormesh(\n",
    "        lons, lats, tcwv[i],\n",
    "        vmin=0.25, vmax=2,\n",
    "        cmap=cpt_convert,\n",
    "        transform=ccrs.PlateCarree(),\n",
    "#         extend='max'  # Ensures data beyond max level gets shaded\n",
    "    )\n",
    "    \n",
    "    cs = plt.contour(lons, lats, mslp[i], np.arange(960, 1040+2, 2), colors='k', linewidths=0.5, transform=ccrs.PlateCarree())\n",
    "#     plt.clabel(cs, fontsize=10, inline=1, inline_spacing=10, fmt='%i', rightside_up=True, use_clabeltext=True)\n",
    "\n",
    "#     # Add contour labels with font properties\n",
    "#     contour_labels = plt.clabel(cs, fontsize=10, inline=1, inline_spacing=10, fmt='%i', rightside_up=True, use_clabeltext=True)\n",
    "\n",
    "#     # Apply font properties to each label\n",
    "#     for label in contour_labels:\n",
    "#         label.set_fontproperties(font_properties3)\n",
    "    \n",
    "    # Adjust legend position closer to the plots\n",
    "    legend = fig.legend(\n",
    "        handles=patches,\n",
    "        facecolor=\"white\",\n",
    "        prop=font_properties3,  # Apply the font properties to the legend\n",
    "        frameon=False,          # Set frameon to True to have a box around the legend\n",
    "        edgecolor='k',          # Set the edge color of the legend box to black\n",
    "        fancybox=False,         # Disable rounded corners (use squared style)\n",
    "        loc='lower center',     # Position the legend close to the plots\n",
    "        labelcolor='k',         # Set the font color of the legend labels\n",
    "        ncol=5,                 # Set the number of columns in the legend\n",
    "        fontsize=24,\n",
    "        bbox_to_anchor=(0.5, 0.88)  # Move the legend closer with a negative y-anchor value\n",
    "    )\n",
    "\n",
    "    fig.patch.set_facecolor('white')\n",
    "    \n",
    "    # Save the figure\n",
    "    plt.savefig(fig_path.joinpath(f\"tcwv_{i}_{region}.png\"), facecolor='white', bbox_inches='tight', dpi=100)\n",
    "    \n",
    "    # Close the figure to free up memory\n",
    "    plt.close(fig)\n"
   ]
  },
  {
   "cell_type": "markdown",
   "id": "ffa247a5",
   "metadata": {},
   "source": [
    "### mslp"
   ]
  },
  {
   "cell_type": "code",
   "execution_count": null,
   "id": "007763b9",
   "metadata": {},
   "outputs": [],
   "source": [
    "for i in range(len(forecast.valid_time)):\n",
    "\n",
    "    # Create the figure and set size\n",
    "    fig = plt.figure(figsize=[25, 15])\n",
    "\n",
    "    # Define projection parameters for different U.S. regions\n",
    "    usa_projections = {\n",
    "        \"central\": {\"central_longitude\": 265, \"central_latitude\": 42, \"satellite_height\": 4000000},\n",
    "        \"eastern\": {\"central_longitude\": 283, \"central_latitude\": 42, \"satellite_height\": 4000000},\n",
    "        \"western\": {\"central_longitude\": 240, \"central_latitude\": 42, \"satellite_height\": 4000000},\n",
    "    }\n",
    "\n",
    "    # Choose a region: 'central', 'eastern', or 'western'\n",
    "    region = \"central\"  # Change to 'eastern' or 'central' as needed\n",
    "    projection_params = usa_projections[region]\n",
    "\n",
    "    # Create the projection for the selected region\n",
    "    ax = plt.axes(\n",
    "        projection=ccrs.NearsidePerspective(\n",
    "            central_longitude=projection_params[\"central_longitude\"],\n",
    "            central_latitude=projection_params[\"central_latitude\"],\n",
    "            satellite_height=projection_params[\"satellite_height\"],\n",
    "        )\n",
    "    )\n",
    "\n",
    "    # Add features to the map (e.g., land, coastlines)\n",
    "    states_provinces = cfeature.NaturalEarthFeature(\n",
    "        category='cultural',\n",
    "        name='admin_1_states_provinces_lines',\n",
    "        scale='10m',\n",
    "        facecolor='none')\n",
    "\n",
    "    ax.add_feature(cfeature.LAND, color='#F5F5F5', edgecolor='k')\n",
    "    ax.coastlines(resolution='50m', color='white', linewidth=1)\n",
    "    ax.add_feature(cfeature.BORDERS, edgecolor='white')\n",
    "    ax.add_feature(cfeature.LAKES, edgecolor='white', alpha=0.2)\n",
    "    ax.add_feature(states_provinces, edgecolor='white')\n",
    "\n",
    "    # Plot MSLP with 'viridis' colormap\n",
    "    data = ax.pcolormesh(\n",
    "        lons, lats, mslp[i],\n",
    "        vmin=940, vmax=1040,  # Set the range for MSLP\n",
    "        cmap='viridis',\n",
    "        transform=ccrs.PlateCarree()\n",
    "    )\n",
    "\n",
    "    # Add contour lines for MSLP\n",
    "    cs = ax.contour(\n",
    "        lons, lats, mslp[i],\n",
    "        levels=np.arange(940, 1040 + 2, 2),\n",
    "        colors='k',\n",
    "        linewidths=0.5,\n",
    "        transform=ccrs.PlateCarree()\n",
    "    )\n",
    "    \n",
    "    # Add contour labels with font properties\n",
    "    contour_labels = ax.clabel(cs, fontsize=10, inline=True, fmt='%i', colors='k')\n",
    "\n",
    "    # Apply font properties to each label\n",
    "    for label in contour_labels:\n",
    "        label.set_fontproperties(font_properties3)\n",
    "\n",
    "    # Add titles\n",
    "    plt.suptitle(\n",
    "        f'Mean sea level pressure (hPa), {formatted_dates[i]}',\n",
    "        fontsize=30, color='k', fontproperties=font_properties2, y=0.34, x=0.51\n",
    "    )\n",
    "\n",
    "    # Add a color bar\n",
    "    cbar = plt.colorbar(data, ax=ax, orientation=\"horizontal\", ticks=[940, 960, 980, 1000, 1020, 1040], pad=-1.86, aspect=20, shrink=0.5)\n",
    "    cbar.ax.tick_params(labelsize=24, labelcolor=\"k\")\n",
    "    cbar.ax.set_facecolor([1, 1, 1, 0])\n",
    "    \n",
    "    # Apply font properties (e.g., weight and family) to the tick labels\n",
    "    for label in cbar.ax.get_xticklabels():\n",
    "        label.set_fontproperties(font_properties3)  # Apply font properties to each label\n",
    "        label.set_size(24)  # Set the font size separately\n",
    "    \n",
    "    # Save the figure\n",
    "    plt.savefig(fig_path.joinpath(f\"mslp_{i}_{region}.png\"), facecolor='white', bbox_inches='tight', dpi=100)\n",
    "\n",
    "    # Close the figure to free up memory\n",
    "    plt.close(fig)\n"
   ]
  },
  {
   "cell_type": "code",
   "execution_count": null,
   "id": "f2242657",
   "metadata": {},
   "outputs": [],
   "source": []
  }
 ],
 "metadata": {
  "kernelspec": {
   "display_name": "Python 3 (ipykernel)",
   "language": "python",
   "name": "python3"
  },
  "language_info": {
   "codemirror_mode": {
    "name": "ipython",
    "version": 3
   },
   "file_extension": ".py",
   "mimetype": "text/x-python",
   "name": "python",
   "nbconvert_exporter": "python",
   "pygments_lexer": "ipython3",
   "version": "3.12.7"
  },
  "papermill": {
   "default_parameters": {},
   "duration": 334.414375,
   "end_time": "2022-09-05T08:28:41.204128",
   "environment_variables": {},
   "exception": null,
   "input_path": "ecmwf_pwat.ipynb",
   "output_path": "ecmwf_pwat.ipynb",
   "parameters": {},
   "start_time": "2022-09-05T08:23:06.789753",
   "version": "2.3.4"
  }
 },
 "nbformat": 4,
 "nbformat_minor": 5
}
